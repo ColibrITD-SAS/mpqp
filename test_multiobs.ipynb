{
 "cells": [
  {
   "cell_type": "code",
   "execution_count": 1,
   "metadata": {},
   "outputs": [],
   "source": [
    "from mpqp import QCircuit\n",
    "from mpqp.gates import *\n",
    "from mpqp.core.languages import Language\n",
    "import numpy as np\n",
    "from mpqp.tools.maths import is_hermitian\n",
    "from mpqp.measures import Observable, ExpectationMeasure"
   ]
  },
  {
   "cell_type": "code",
   "execution_count": 2,
   "metadata": {},
   "outputs": [],
   "source": [
    "\n",
    "circuit = QCircuit([H(0), CNOT(0,1), Ry(2.6, 0), Ry(-0.87, 1)])\n",
    "\n",
    "matrix1 = np.array([[4,  2,  3, 8], [2, -3,  1, 0], [3,  1, -1, 5], [8,  0,  5, 2]])\n",
    "matrix2 = np.array([[1,  0,  0, 1], [0,  2,  1, 0], [0,  1, -2, 0], [1,  0,  0, 3]])\n",
    "#matrix2 = np.array([[1,  0,  0, 1], [0,  5,  1, 0], [0,  1, -9, 0], [1,  0,  0, 1]]) "
   ]
  },
  {
   "cell_type": "code",
   "execution_count": 3,
   "metadata": {},
   "outputs": [
    {
     "data": {
      "text/plain": [
       "[Observable(array([[ 4.+0.j, 2.+0.j, 3.+0.j, 8.+0.j], [ 2.+0.j, -3.+0.j, 1.+0.j, 0.+0.j], [ 3.+0.j, 1.+0.j, -1.+0.j, 5.+0.j], [ 8.+0.j, 0.+0.j, 5.+0.j, 2.+0.j]], dtype=complex64)),\n",
       " Observable(array([[ 1.+0.j, 0.+0.j, 0.+0.j, 1.+0.j], [ 0.+0.j, 2.+0.j, 1.+0.j, 0.+0.j], [ 0.+0.j, 1.+0.j, -2.+0.j, 0.+0.j], [ 1.+0.j, 0.+0.j, 0.+0.j, 3.+0.j]], dtype=complex64))]"
      ]
     },
     "execution_count": 3,
     "metadata": {},
     "output_type": "execute_result"
    }
   ],
   "source": [
    "obs1 = Observable(matrix1)\n",
    "obs2 = Observable(matrix2)\n",
    "#obs2\n",
    "[obs1, obs2] "
   ]
  },
  {
   "cell_type": "code",
   "execution_count": 4,
   "metadata": {},
   "outputs": [
    {
     "data": {
      "text/plain": [
       "(2, 2)"
      ]
     },
     "execution_count": 4,
     "metadata": {},
     "output_type": "execute_result"
    }
   ],
   "source": [
    "obs1.nb_qubits, obs2.nb_qubits\n",
    "#obs2.nb_qubits"
   ]
  },
  {
   "cell_type": "code",
   "execution_count": 5,
   "metadata": {},
   "outputs": [
    {
     "data": {
      "text/plain": [
       "[Observable(array([[ 4.+0.j, 2.+0.j, 3.+0.j, 8.+0.j], [ 2.+0.j, -3.+0.j, 1.+0.j, 0.+0.j], [ 3.+0.j, 1.+0.j, -1.+0.j, 5.+0.j], [ 8.+0.j, 0.+0.j, 5.+0.j, 2.+0.j]], dtype=complex64)),\n",
       " Observable(array([[ 1.+0.j, 0.+0.j, 0.+0.j, 1.+0.j], [ 0.+0.j, 2.+0.j, 1.+0.j, 0.+0.j], [ 0.+0.j, 1.+0.j, -2.+0.j, 0.+0.j], [ 1.+0.j, 0.+0.j, 0.+0.j, 3.+0.j]], dtype=complex64))]"
      ]
     },
     "execution_count": 5,
     "metadata": {},
     "output_type": "execute_result"
    }
   ],
   "source": [
    "exp = ExpectationMeasure([obs1, obs2], shots=2)\n",
    "#exp = ExpectationMeasure([obs2], shots=2)\n",
    "#print(exp)  \n",
    "\n",
    "exp.observables"
   ]
  },
  {
   "cell_type": "code",
   "execution_count": 6,
   "metadata": {},
   "outputs": [
    {
     "data": {
      "text/plain": [
       "QCircuit([H(0), CNOT(0, 1), Ry(2.6, 0), Ry(-0.87, 1), ExpectationMeasure([Observable(array([[ 4.+0.j, 2.+0.j, 3.+0.j, 8.+0.j], [ 2.+0.j, -3.+0.j, 1.+0.j, 0.+0.j], [ 3.+0.j, 1.+0.j, -1.+0.j, 5.+0.j], [ 8.+0.j, 0.+0.j, 5.+0.j, 2.+0.j]], dtype=complex64)), Observable(array([[ 1.+0.j, 0.+0.j, 0.+0.j, 1.+0.j], [ 0.+0.j, 2.+0.j, 1.+0.j, 0.+0.j], [ 0.+0.j, 1.+0.j, -2.+0.j, 0.+0.j], [ 1.+0.j, 0.+0.j, 0.+0.j, 3.+0.j]], dtype=complex64))], shots=2)])"
      ]
     },
     "execution_count": 6,
     "metadata": {},
     "output_type": "execute_result"
    }
   ],
   "source": [
    "#circuit.add(ExpectationMeasure(obs))\n",
    "circuit.add(ExpectationMeasure([obs1, obs2], shots=2))\n",
    "#circuit.add(exp)\n",
    "circuit  "
   ]
  },
  {
   "cell_type": "code",
   "execution_count": 7,
   "metadata": {},
   "outputs": [
    {
     "name": "stdout",
     "output_type": "stream",
     "text": [
      "Translated observable: 1.0*I+0.5*Z(q_0)+1.0*X(q_0)*X(q_1)-1.5*Z(q_1)+1.0*Z(q_0)*Z(q_1), type: <class 'cirq.ops.linear_combinations.PauliSum'>\n",
      "cirq observables run_local_processor is [cirq.PauliSum(cirq.LinearDict({frozenset(): (0.5+0j), frozenset({(cirq.NamedQubit('q_0'), cirq.X)}): (1.5+0j), frozenset({(cirq.NamedQubit('q_1'), cirq.X)}): (3.5+0j), frozenset({(cirq.NamedQubit('q_1'), cirq.X), (cirq.NamedQubit('q_0'), cirq.X)}): (4.5+0j), frozenset({(cirq.NamedQubit('q_1'), cirq.X), (cirq.NamedQubit('q_0'), cirq.Z)}): (-1.5+0j), frozenset({(cirq.NamedQubit('q_0'), cirq.Y), (cirq.NamedQubit('q_1'), cirq.Y)}): (-3.5+0j), frozenset({(cirq.NamedQubit('q_1'), cirq.Z)}): (1+0j), frozenset({(cirq.NamedQubit('q_1'), cirq.Z), (cirq.NamedQubit('q_0'), cirq.X)}): (1.5+0j), frozenset({(cirq.NamedQubit('q_1'), cirq.Z), (cirq.NamedQubit('q_0'), cirq.Z)}): (2.5+0j)})), cirq.PauliSum(cirq.LinearDict({frozenset(): (1+0j), frozenset({(cirq.NamedQubit('q_0'), cirq.Z)}): (0.5+0j), frozenset({(cirq.NamedQubit('q_1'), cirq.X), (cirq.NamedQubit('q_0'), cirq.X)}): (1+0j), frozenset({(cirq.NamedQubit('q_1'), cirq.Z)}): (-1.5+0j), frozenset({(cirq.NamedQubit('q_1'), cirq.Z), (cirq.NamedQubit('q_0'), cirq.Z)}): (1+0j)}))]\n"
     ]
    },
    {
     "ename": "AttributeError",
     "evalue": "'PauliSum' object has no attribute 'with_coefficient'",
     "output_type": "error",
     "traceback": [
      "\u001b[0;31m---------------------------------------------------------------------------\u001b[0m",
      "\u001b[0;31mAttributeError\u001b[0m                            Traceback (most recent call last)",
      "Cell \u001b[0;32mIn[7], line 8\u001b[0m\n\u001b[1;32m      3\u001b[0m \u001b[38;5;28;01mfrom\u001b[39;00m \u001b[38;5;21;01mmpqp\u001b[39;00m\u001b[38;5;21;01m.\u001b[39;00m\u001b[38;5;21;01mexecution\u001b[39;00m\u001b[38;5;21;01m.\u001b[39;00m\u001b[38;5;21;01mrunner\u001b[39;00m \u001b[38;5;28;01mimport\u001b[39;00m submit\n\u001b[1;32m      4\u001b[0m \u001b[38;5;66;03m#result = run(circuit, IBMDevice.IBM_KYIV)\u001b[39;00m\n\u001b[1;32m      5\u001b[0m \u001b[38;5;66;03m#result = run(circuit, IBMDevice.AER_SIMULATOR)\u001b[39;00m\n\u001b[1;32m      6\u001b[0m \u001b[38;5;66;03m#result = run(circuit, IBMSimulatedDevice.FakeKyiv)\u001b[39;00m\n\u001b[1;32m      7\u001b[0m \u001b[38;5;66;03m#result = submit(circuit, IBMDevice.IBM_KYIV)\u001b[39;00m\n\u001b[0;32m----> 8\u001b[0m result \u001b[38;5;241m=\u001b[39m \u001b[43mrun\u001b[49m\u001b[43m(\u001b[49m\u001b[43mcircuit\u001b[49m\u001b[43m,\u001b[49m\u001b[43mGOOGLEDevice\u001b[49m\u001b[38;5;241;43m.\u001b[39;49m\u001b[43mCIRQ_LOCAL_SIMULATOR\u001b[49m\u001b[43m)\u001b[49m\n\u001b[1;32m      9\u001b[0m result\n\u001b[1;32m     10\u001b[0m \u001b[38;5;66;03m#print(result_2)  \u001b[39;00m\n",
      "File \u001b[0;32m~/colibri/mpqp/mpqp/mpqp/execution/runner.py:313\u001b[0m, in \u001b[0;36mrun\u001b[0;34m(circuit, device, values, display_breakpoints)\u001b[0m\n\u001b[1;32m    305\u001b[0m     \u001b[38;5;28;01mreturn\u001b[39;00m BatchResult(\n\u001b[1;32m    306\u001b[0m         [\n\u001b[1;32m    307\u001b[0m             _run_single(namer(circ, i \u001b[38;5;241m+\u001b[39m \u001b[38;5;241m1\u001b[39m), dev, values, display_breakpoints)\n\u001b[0;32m   (...)\u001b[0m\n\u001b[1;32m    310\u001b[0m         ]\n\u001b[1;32m    311\u001b[0m     )\n\u001b[1;32m    312\u001b[0m \u001b[38;5;28;01melse\u001b[39;00m:\n\u001b[0;32m--> 313\u001b[0m     \u001b[38;5;28;01mreturn\u001b[39;00m _run_single(circuit, device, values, display_breakpoints)\n",
      "File \u001b[0;32m~/colibri/mpqp/mpqp/mpqp/execution/runner.py:211\u001b[0m, in \u001b[0;36m_run_single\u001b[0;34m(circuit, device, values, display_breakpoints)\u001b[0m\n\u001b[1;32m    209\u001b[0m     \u001b[38;5;28;01mreturn\u001b[39;00m run_braket(job)\n\u001b[1;32m    210\u001b[0m \u001b[38;5;28;01melif\u001b[39;00m \u001b[38;5;28misinstance\u001b[39m(device, GOOGLEDevice):\n\u001b[0;32m--> 211\u001b[0m     \u001b[38;5;28;01mreturn\u001b[39;00m run_google(job)\n\u001b[1;32m    212\u001b[0m \u001b[38;5;28;01melif\u001b[39;00m \u001b[38;5;28misinstance\u001b[39m(device, AZUREDevice):\n\u001b[1;32m    213\u001b[0m     \u001b[38;5;28;01mreturn\u001b[39;00m run_azure(job)\n",
      "File \u001b[0;32m~/colibri/mpqp/mpqp/mpqp/execution/providers/google.py:39\u001b[0m, in \u001b[0;36mrun_google\u001b[0;34m(job)\u001b[0m\n\u001b[1;32m     23\u001b[0m \u001b[38;5;129m@typechecked\u001b[39m\n\u001b[1;32m     24\u001b[0m \u001b[38;5;28;01mdef\u001b[39;00m \u001b[38;5;21mrun_google\u001b[39m(job: Job) \u001b[38;5;241m-\u001b[39m\u001b[38;5;241m>\u001b[39m BatchResult \u001b[38;5;241m|\u001b[39m Result:\n\u001b[1;32m     25\u001b[0m \u001b[38;5;250m    \u001b[39m\u001b[38;5;124;03m\"\"\"Executes the job on the right Google device precised in the job in\u001b[39;00m\n\u001b[1;32m     26\u001b[0m \u001b[38;5;124;03m    parameter.\u001b[39;00m\n\u001b[1;32m     27\u001b[0m \n\u001b[0;32m   (...)\u001b[0m\n\u001b[1;32m     37\u001b[0m \u001b[38;5;124;03m        :func:`~mpqp.execution.runner.run` instead.\u001b[39;00m\n\u001b[1;32m     38\u001b[0m \u001b[38;5;124;03m    \"\"\"\u001b[39;00m\n\u001b[0;32m---> 39\u001b[0m     \u001b[38;5;28;01mreturn\u001b[39;00m run_local(job) \u001b[38;5;28;01mif\u001b[39;00m \u001b[38;5;129;01mnot\u001b[39;00m job\u001b[38;5;241m.\u001b[39mdevice\u001b[38;5;241m.\u001b[39mis_remote() \u001b[38;5;28;01melse\u001b[39;00m run_google_remote(job)\n",
      "File \u001b[0;32m~/colibri/mpqp/mpqp/mpqp/execution/providers/google.py:190\u001b[0m, in \u001b[0;36mrun_local\u001b[0;34m(job)\u001b[0m\n\u001b[1;32m    181\u001b[0m         \u001b[38;5;28;01mreturn\u001b[39;00m extract_result_OBSERVABLE_ideal(\n\u001b[1;32m    182\u001b[0m             simulator\u001b[38;5;241m.\u001b[39msimulate_expectation_values(\n\u001b[1;32m    183\u001b[0m                 cirq_circuit, observables\u001b[38;5;241m=\u001b[39mcirq_observables\n\u001b[1;32m    184\u001b[0m             ),\n\u001b[1;32m    185\u001b[0m             job,\n\u001b[1;32m    186\u001b[0m         )\n\u001b[1;32m    187\u001b[0m     \u001b[38;5;28;01melse\u001b[39;00m:\n\u001b[1;32m    188\u001b[0m         \u001b[38;5;28;01mreturn\u001b[39;00m extract_result_OBSERVABLE_shot_noise(\n\u001b[1;32m    189\u001b[0m             \u001b[38;5;66;03m# TODO: here precise the 'grouper' argument of measure_observable to precise the pauli grouping strategy\u001b[39;00m\n\u001b[0;32m--> 190\u001b[0m             measure_observables(\n\u001b[1;32m    191\u001b[0m                 cirq_circuit,\n\u001b[1;32m    192\u001b[0m                 observables\u001b[38;5;241m=\u001b[39mcirq_observables,\n\u001b[1;32m    193\u001b[0m                 sampler\u001b[38;5;241m=\u001b[39msimulator,\n\u001b[1;32m    194\u001b[0m                 stopping_criteria\u001b[38;5;241m=\u001b[39mRepetitionsStoppingCriteria(job\u001b[38;5;241m.\u001b[39mmeasure\u001b[38;5;241m.\u001b[39mshots),\n\u001b[1;32m    195\u001b[0m             ),\n\u001b[1;32m    196\u001b[0m             job,\n\u001b[1;32m    197\u001b[0m         )\n\u001b[1;32m    198\u001b[0m \u001b[38;5;28;01melse\u001b[39;00m:\n\u001b[1;32m    199\u001b[0m     \u001b[38;5;28;01mraise\u001b[39;00m \u001b[38;5;167;01mValueError\u001b[39;00m(\u001b[38;5;124mf\u001b[39m\u001b[38;5;124m\"\u001b[39m\u001b[38;5;124mJob type \u001b[39m\u001b[38;5;132;01m{\u001b[39;00mjob\u001b[38;5;241m.\u001b[39mjob_type\u001b[38;5;132;01m}\u001b[39;00m\u001b[38;5;124m not handled\u001b[39m\u001b[38;5;124m\"\u001b[39m)\n",
      "File \u001b[0;32m~/.pyenv/versions/3.9.18/lib/python3.9/site-packages/cirq/work/observable_measurement.py:658\u001b[0m, in \u001b[0;36mmeasure_observables\u001b[0;34m(circuit, observables, sampler, stopping_criteria, readout_symmetrization, circuit_sweep, grouper, readout_calibrations, checkpoint)\u001b[0m\n\u001b[1;32m    656\u001b[0m settings \u001b[38;5;241m=\u001b[39m \u001b[38;5;28mlist\u001b[39m(observables_to_settings(observables, qubits))\n\u001b[1;32m    657\u001b[0m actual_grouper \u001b[38;5;241m=\u001b[39m _parse_grouper(grouper)\n\u001b[0;32m--> 658\u001b[0m grouped_settings \u001b[38;5;241m=\u001b[39m \u001b[43mactual_grouper\u001b[49m\u001b[43m(\u001b[49m\u001b[43msettings\u001b[49m\u001b[43m)\u001b[49m\n\u001b[1;32m    660\u001b[0m accumulators \u001b[38;5;241m=\u001b[39m measure_grouped_settings(\n\u001b[1;32m    661\u001b[0m     circuit\u001b[38;5;241m=\u001b[39mcircuit,\n\u001b[1;32m    662\u001b[0m     grouped_settings\u001b[38;5;241m=\u001b[39mgrouped_settings,\n\u001b[0;32m   (...)\u001b[0m\n\u001b[1;32m    668\u001b[0m     checkpoint\u001b[38;5;241m=\u001b[39mcheckpoint,\n\u001b[1;32m    669\u001b[0m )\n\u001b[1;32m    670\u001b[0m \u001b[38;5;28;01mreturn\u001b[39;00m flatten_grouped_results(accumulators)\n",
      "File \u001b[0;32m~/.pyenv/versions/3.9.18/lib/python3.9/site-packages/cirq/work/observable_grouping.py:74\u001b[0m, in \u001b[0;36mgroup_settings_greedy\u001b[0;34m(settings)\u001b[0m\n\u001b[1;32m     68\u001b[0m         \u001b[38;5;28;01mbreak\u001b[39;00m\n\u001b[1;32m     70\u001b[0m \u001b[38;5;28;01melse\u001b[39;00m:\n\u001b[1;32m     71\u001b[0m     \u001b[38;5;66;03m# made it through entire dict without finding a compatible group,\u001b[39;00m\n\u001b[1;32m     72\u001b[0m     \u001b[38;5;66;03m# thus a new group needs to be created\u001b[39;00m\n\u001b[1;32m     73\u001b[0m     \u001b[38;5;66;03m# Strip coefficients before using as key\u001b[39;00m\n\u001b[0;32m---> 74\u001b[0m     new_max_weight_obs \u001b[38;5;241m=\u001b[39m \u001b[43msetting\u001b[49m\u001b[38;5;241;43m.\u001b[39;49m\u001b[43mobservable\u001b[49m\u001b[38;5;241;43m.\u001b[39;49m\u001b[43mwith_coefficient\u001b[49m(\u001b[38;5;241m1.0\u001b[39m)\n\u001b[1;32m     75\u001b[0m     new_max_setting \u001b[38;5;241m=\u001b[39m InitObsSetting(setting\u001b[38;5;241m.\u001b[39minit_state, new_max_weight_obs)\n\u001b[1;32m     76\u001b[0m     grouped_settings[new_max_setting] \u001b[38;5;241m=\u001b[39m [setting]\n",
      "\u001b[0;31mAttributeError\u001b[0m: 'PauliSum' object has no attribute 'with_coefficient'"
     ]
    }
   ],
   "source": [
    "from mpqp.execution import run, IBMDevice, GOOGLEDevice\n",
    "from mpqp.execution.simulated_devices import IBMSimulatedDevice\n",
    "from mpqp.execution.runner import submit\n",
    "#result = run(circuit, IBMDevice.IBM_KYIV)\n",
    "#result = run(circuit, IBMDevice.AER_SIMULATOR)\n",
    "#result = run(circuit, IBMSimulatedDevice.FakeKyiv)\n",
    "#result = submit(circuit, IBMDevice.IBM_KYIV)\n",
    "result = run(circuit,GOOGLEDevice.CIRQ_LOCAL_SIMULATOR)\n",
    "result\n",
    "#print(result_2)  "
   ]
  },
  {
   "cell_type": "code",
   "execution_count": null,
   "metadata": {},
   "outputs": [],
   "source": []
  }
 ],
 "metadata": {
  "kernelspec": {
   "display_name": "Python 3",
   "language": "python",
   "name": "python3"
  },
  "language_info": {
   "codemirror_mode": {
    "name": "ipython",
    "version": 3
   },
   "file_extension": ".py",
   "mimetype": "text/x-python",
   "name": "python",
   "nbconvert_exporter": "python",
   "pygments_lexer": "ipython3",
   "version": "3.9.18"
  }
 },
 "nbformat": 4,
 "nbformat_minor": 2
}
