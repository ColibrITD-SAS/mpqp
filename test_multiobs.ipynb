{
 "cells": [
  {
   "cell_type": "code",
   "execution_count": 1,
   "metadata": {},
   "outputs": [],
   "source": [
    "from mpqp import QCircuit\n",
    "from mpqp.gates import *\n",
    "from mpqp.core.languages import Language\n",
    "import numpy as np\n",
    "from mpqp.tools.maths import is_hermitian\n",
    "from mpqp.measures import Observable, ExpectationMeasure"
   ]
  },
  {
   "cell_type": "code",
   "execution_count": 2,
   "metadata": {},
   "outputs": [],
   "source": [
    "\n",
    "circuit = QCircuit([H(0), CNOT(0,1), Ry(2.6, 0), Ry(-0.87, 1)])\n",
    "\n",
    "matrix1 = np.array([[4,  2,  3, 8], [2, -3,  1, 0], [3,  1, -1, 5], [8,  0,  5, 2]])\n",
    "matrix2 = np.array([[1,  0,  0, 1], [0,  2,  1, 0], [0,  1, -2, 0], [1,  0,  0, 3]])\n",
    "matrix3 = np.array([[1,  0,  0, 1], [0,  5,  1, 0], [0,  1, -9, 0], [1,  0,  0, 1]]) "
   ]
  },
  {
   "cell_type": "code",
   "execution_count": 3,
   "metadata": {},
   "outputs": [
    {
     "data": {
      "text/plain": [
       "[Observable(array([[ 4.+0.j, 2.+0.j, 3.+0.j, 8.+0.j], [ 2.+0.j, -3.+0.j, 1.+0.j, 0.+0.j], [ 3.+0.j, 1.+0.j, -1.+0.j, 5.+0.j], [ 8.+0.j, 0.+0.j, 5.+0.j, 2.+0.j]], dtype=complex64)),\n",
       " Observable(array([[ 1.+0.j, 0.+0.j, 0.+0.j, 1.+0.j], [ 0.+0.j, 2.+0.j, 1.+0.j, 0.+0.j], [ 0.+0.j, 1.+0.j, -2.+0.j, 0.+0.j], [ 1.+0.j, 0.+0.j, 0.+0.j, 3.+0.j]], dtype=complex64)),\n",
       " Observable(array([[ 1.+0.j, 0.+0.j, 0.+0.j, 1.+0.j], [ 0.+0.j, 5.+0.j, 1.+0.j, 0.+0.j], [ 0.+0.j, 1.+0.j, -9.+0.j, 0.+0.j], [ 1.+0.j, 0.+0.j, 0.+0.j, 1.+0.j]], dtype=complex64))]"
      ]
     },
     "execution_count": 3,
     "metadata": {},
     "output_type": "execute_result"
    }
   ],
   "source": [
    "obs1 = Observable(matrix1)\n",
    "obs2 = Observable(matrix2)\n",
    "obs3 = Observable(matrix3)\n",
    "#obs2\n",
    "[obs1, obs2, obs3] "
   ]
  },
  {
   "cell_type": "code",
   "execution_count": 4,
   "metadata": {},
   "outputs": [
    {
     "data": {
      "text/plain": [
       "(2, 2, 2)"
      ]
     },
     "execution_count": 4,
     "metadata": {},
     "output_type": "execute_result"
    }
   ],
   "source": [
    "obs1.nb_qubits, obs2.nb_qubits, obs3.nb_qubits\n",
    "#obs2.nb_qubits"
   ]
  },
  {
   "cell_type": "code",
   "execution_count": 5,
   "metadata": {},
   "outputs": [
    {
     "data": {
      "text/plain": [
       "[Observable(array([[ 4.+0.j, 2.+0.j, 3.+0.j, 8.+0.j], [ 2.+0.j, -3.+0.j, 1.+0.j, 0.+0.j], [ 3.+0.j, 1.+0.j, -1.+0.j, 5.+0.j], [ 8.+0.j, 0.+0.j, 5.+0.j, 2.+0.j]], dtype=complex64)),\n",
       " Observable(array([[ 1.+0.j, 0.+0.j, 0.+0.j, 1.+0.j], [ 0.+0.j, 2.+0.j, 1.+0.j, 0.+0.j], [ 0.+0.j, 1.+0.j, -2.+0.j, 0.+0.j], [ 1.+0.j, 0.+0.j, 0.+0.j, 3.+0.j]], dtype=complex64)),\n",
       " Observable(array([[ 1.+0.j, 0.+0.j, 0.+0.j, 1.+0.j], [ 0.+0.j, 5.+0.j, 1.+0.j, 0.+0.j], [ 0.+0.j, 1.+0.j, -9.+0.j, 0.+0.j], [ 1.+0.j, 0.+0.j, 0.+0.j, 1.+0.j]], dtype=complex64))]"
      ]
     },
     "execution_count": 5,
     "metadata": {},
     "output_type": "execute_result"
    }
   ],
   "source": [
    "exp = ExpectationMeasure([obs1, obs2, obs3], shots=2)\n",
    "#exp = ExpectationMeasure([obs2], shots=2)\n",
    "#print(exp)  \n",
    "\n",
    "exp.observables"
   ]
  },
  {
   "cell_type": "code",
   "execution_count": 6,
   "metadata": {},
   "outputs": [
    {
     "data": {
      "text/plain": [
       "QCircuit([H(0), CNOT(0, 1), Ry(2.6, 0), Ry(-0.87, 1), ExpectationMeasure([Observable(array([[ 4.+0.j, 2.+0.j, 3.+0.j, 8.+0.j], [ 2.+0.j, -3.+0.j, 1.+0.j, 0.+0.j], [ 3.+0.j, 1.+0.j, -1.+0.j, 5.+0.j], [ 8.+0.j, 0.+0.j, 5.+0.j, 2.+0.j]], dtype=complex64)), Observable(array([[ 1.+0.j, 0.+0.j, 0.+0.j, 1.+0.j], [ 0.+0.j, 2.+0.j, 1.+0.j, 0.+0.j], [ 0.+0.j, 1.+0.j, -2.+0.j, 0.+0.j], [ 1.+0.j, 0.+0.j, 0.+0.j, 3.+0.j]], dtype=complex64)), Observable(array([[ 1.+0.j, 0.+0.j, 0.+0.j, 1.+0.j], [ 0.+0.j, 5.+0.j, 1.+0.j, 0.+0.j], [ 0.+0.j, 1.+0.j, -9.+0.j, 0.+0.j], [ 1.+0.j, 0.+0.j, 0.+0.j, 1.+0.j]], dtype=complex64))], shots=2)])"
      ]
     },
     "execution_count": 6,
     "metadata": {},
     "output_type": "execute_result"
    }
   ],
   "source": [
    "#circuit.add(ExpectationMeasure(obs))\n",
    "circuit.add(ExpectationMeasure([obs1, obs2, obs3], shots=2))\n",
    "#circuit.add(exp)\n",
    "circuit  "
   ]
  },
  {
   "cell_type": "code",
   "execution_count": 7,
   "metadata": {},
   "outputs": [
    {
     "data": {
      "text/plain": [
       "BatchResult([Result(<mpqp.execution.job.Job object at 0x7f21732f96a0>, 0.5, 0.0, 2), Result(<mpqp.execution.job.Job object at 0x7f21732f96a0>, 1.0, 0.0, 2), Result(<mpqp.execution.job.Job object at 0x7f21732f96a0>, -0.5, 0.0, 2)])"
      ]
     },
     "execution_count": 7,
     "metadata": {},
     "output_type": "execute_result"
    }
   ],
   "source": [
    "from mpqp.execution import run, IBMDevice, GOOGLEDevice\n",
    "from mpqp.execution.simulated_devices import IBMSimulatedDevice\n",
    "from mpqp.execution.runner import submit\n",
    "#result = run(circuit, IBMDevice.IBM_KYIV)\n",
    "#result = run(circuit, IBMDevice.AER_SIMULATOR)\n",
    "#result = run(circuit, IBMSimulatedDevice.FakeKyiv)\n",
    "#result = submit(circuit, IBMDevice.IBM_KYIV)\n",
    "result = run(circuit,GOOGLEDevice.CIRQ_LOCAL_SIMULATOR)\n",
    "result\n",
    "#print(result_2)"
   ]
  },
  {
   "cell_type": "code",
   "execution_count": 8,
   "metadata": {},
   "outputs": [
    {
     "name": "stdout",
     "output_type": "stream",
     "text": [
      "BatchResult: 3 results\n",
      "    Result: GOOGLEDevice, CIRQ_LOCAL_SIMULATOR\n",
      "     Expectation value: 0.5\n",
      "     Error/Variance: 0.0\n",
      "    Result: GOOGLEDevice, CIRQ_LOCAL_SIMULATOR\n",
      "     Expectation value: 1.0\n",
      "     Error/Variance: 0.0\n",
      "    Result: GOOGLEDevice, CIRQ_LOCAL_SIMULATOR\n",
      "     Expectation value: -0.5\n",
      "     Error/Variance: 0.0\n"
     ]
    }
   ],
   "source": [
    "print(result)"
   ]
  }
 ],
 "metadata": {
  "kernelspec": {
   "display_name": "Python 3",
   "language": "python",
   "name": "python3"
  },
  "language_info": {
   "codemirror_mode": {
    "name": "ipython",
    "version": 3
   },
   "file_extension": ".py",
   "mimetype": "text/x-python",
   "name": "python",
   "nbconvert_exporter": "python",
   "pygments_lexer": "ipython3",
   "version": "3.9.18"
  }
 },
 "nbformat": 4,
 "nbformat_minor": 2
}
