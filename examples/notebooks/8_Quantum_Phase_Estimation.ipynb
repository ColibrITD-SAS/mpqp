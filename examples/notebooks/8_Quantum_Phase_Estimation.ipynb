{
 "cells": [
  {
   "cell_type": "code",
   "execution_count": 38,
   "id": "c22520f4",
   "metadata": {},
   "outputs": [],
   "source": [
    "from mpqp.all import *\n",
    "from mpqp.tools.maths import normalize\n",
    "from math import floor\n",
    "from mpqp.qasm.qasm_to_mpqp import qasm2_parse"
   ]
  },
  {
   "cell_type": "markdown",
   "id": "9e663e0b",
   "metadata": {},
   "source": [
    "## Generate circuit from state"
   ]
  },
  {
   "cell_type": "code",
   "execution_count": 2,
   "id": "86dbf1ea",
   "metadata": {},
   "outputs": [],
   "source": [
    "from qiskit import QuantumCircuit\n",
    "from qiskit import qasm2\n",
    "import re\n",
    "\n",
    "def generate_circuit(state, nb_qubits: int):\n",
    "    circuit = QuantumCircuit(nb_qubits)\n",
    "    circuit.initialize(state, list(range(nb_qubits)))  \n",
    "    decomposed_circuit = circuit.decompose().decompose().decompose().decompose().decompose()\n",
    "    qasm_code = qasm2.dumps(decomposed_circuit.reverse_bits())\n",
    "    cleaned_code = re.sub(r\"reset q\\[\\d+\\];\\n\", \"\", qasm_code)\n",
    "    circ = qasm2_parse(cleaned_code)\n",
    "    \n",
    "    return circ"
   ]
  },
  {
   "cell_type": "code",
   "execution_count": 4,
   "id": "f0eaf4bb",
   "metadata": {
    "scrolled": true
   },
   "outputs": [
    {
     "name": "stdout",
     "output_type": "stream",
     "text": [
      "       ┌───────────────┐                          \n",
      "q_0: ──┤ U(1.8587,0,0) ├─────■────────────────────\n",
      "     ┌─┴───────────────┴──┐┌─┴─┐┌────────────────┐\n",
      "q_1: ┤ U(1.7783,-2π,-π/2) ├┤ X ├┤ U(0.60229,0,0) ├\n",
      "     └────────────────────┘└───┘└────────────────┘\n"
     ]
    }
   ],
   "source": [
    "print(generate_circuit(normalize(np.array([2,5,4,6])), 2))"
   ]
  },
  {
   "cell_type": "markdown",
   "id": "fd00b78b",
   "metadata": {},
   "source": [
    "## Quantum Fourier Transform"
   ]
  },
  {
   "cell_type": "code",
   "execution_count": 5,
   "id": "ae653e0a",
   "metadata": {},
   "outputs": [],
   "source": [
    "def QFT(nb_qubits, inverse=False):\n",
    "    \n",
    "    qft = QCircuit(nb_qubits)\n",
    "    for j in range(nb_qubits):\n",
    "        qft.add(H(j))\n",
    "        qft.add([CRk(i+1, i, j) for i in range(j+1, nb_qubits)])\n",
    "        qft.add(Barrier())\n",
    "    qft.add([SWAP(i, nb_qubits-1-i) for i in range(int(floor(nb_qubits / 2)))])\n",
    "\n",
    "    if inverse:\n",
    "        return qft.inverse()\n",
    "    return qft"
   ]
  },
  {
   "cell_type": "code",
   "execution_count": 12,
   "id": "d4d18ff4",
   "metadata": {
    "scrolled": false
   },
   "outputs": [
    {
     "name": "stdout",
     "output_type": "stream",
     "text": [
      "     ┌───┐                   ░                ░       ░    \n",
      "q_0: ┤ H ├─■────────■────────░────────────────░───────░──X─\n",
      "     └───┘ │P(π/2)  │        ░ ┌───┐          ░       ░  │ \n",
      "q_1: ──────■────────┼────────░─┤ H ├─■────────░───────░──┼─\n",
      "                    │P(π/4)  ░ └───┘ │P(π/4)  ░ ┌───┐ ░  │ \n",
      "q_2: ───────────────■────────░───────■────────░─┤ H ├─░──X─\n",
      "                             ░                ░ └───┘ ░    \n",
      "         ░       ░                 ░                     ┌───┐\n",
      "q_0: ─X──░───────░─────────────────░──■─────────■────────┤ H ├\n",
      "      │  ░       ░           ┌───┐ ░  │         │P(-π/2) └───┘\n",
      "q_1: ─┼──░───────░──■────────┤ H ├─░──┼─────────■─────────────\n",
      "      │  ░ ┌───┐ ░  │P(-π/4) └───┘ ░  │P(-π/4)                \n",
      "q_2: ─X──░─┤ H ├─░──■──────────────░──■───────────────────────\n",
      "         ░ └───┘ ░                 ░                          \n"
     ]
    }
   ],
   "source": [
    "print(QFT(3))\n",
    "print(QFT(3, inverse=True))"
   ]
  },
  {
   "cell_type": "markdown",
   "id": "8d2d45f6",
   "metadata": {},
   "source": [
    "## Build successive control U^k gates"
   ]
  },
  {
   "cell_type": "code",
   "execution_count": 20,
   "id": "27f85ba5",
   "metadata": {},
   "outputs": [],
   "source": [
    "def c_Uk(unitary: Gate, n_1: int, n_2: int) -> CustomGate:\n",
    "    matrix = np.zeros((2**(n_1 + n_2), 2**(n_1 + n_2)))\n",
    "    \n",
    "    n_1_power = 2**n_1\n",
    "    for k in range(n_1_power):\n",
    "        k_vec = np.zeros((n_1_power, n_1_power))\n",
    "        k_vec[k,k] = 1\n",
    "        matrix += np.kron(k_vec, unitary.power(k).to_matrix())\n",
    "    return CustomGate(UnitaryMatrix(matrix), list(range(n_1+n_2)))     "
   ]
  },
  {
   "cell_type": "code",
   "execution_count": 19,
   "id": "78e9b2ec",
   "metadata": {},
   "outputs": [
    {
     "data": {
      "text/plain": [
       "CustomGate(UnitaryMatrix(array([[ 1. , 0. , 0. , 0. , 0. , 0. , 0. , 0. ], [ 0. , 1. , 0. , 0. , 0. , 0. , 0. , 0. ], [ 0. , 0. , 0.98558477, -0.16918235, 0. , 0. , 0. , 0. ], [ 0. , 0. , 0.16918235, 0.98558477, 0. , 0. , 0. , 0. ], [ 0. , 0. , 0. , 0. , 0.94275467, -0.33348709, 0. , 0. ], [ 0. , 0. , 0. , 0. , 0.33348709, 0.94275467, 0. , 0. ], [ 0. , 0. , 0. , 0. , 0. , 0. , 0.87274451, -0.48817725], [ 0. , 0. , 0. , 0. , 0. , 0. , 0.48817725, 0.87274451]])), [0, 1, 2] )"
      ]
     },
     "execution_count": 19,
     "metadata": {},
     "output_type": "execute_result"
    }
   ],
   "source": [
    "c_Uk(Ry(0.34,0),2,1)"
   ]
  },
  {
   "cell_type": "markdown",
   "id": "0fc516d6",
   "metadata": {},
   "source": [
    "## Building the QPE circuit"
   ]
  },
  {
   "cell_type": "code",
   "execution_count": 69,
   "id": "c7101eb3",
   "metadata": {},
   "outputs": [],
   "source": [
    "def QPE(eigen_state, U: Gate, n_1: int, n_2: int, shots: int):\n",
    "    \n",
    "    first_register = QCircuit(H.range(n_1))\n",
    "    state_circuit = generate_circuit(eigen_state, n_2)\n",
    "    whool_circuit = first_register @ state_circuit \n",
    "    whool_circuit.add(c_Uk(U, n_1, n_2))\n",
    "    whool_circuit.append(QFT(n_1, inverse=True))\n",
    "    \n",
    "    # Extract result\n",
    "    whool_circuit.add(BasisMeasure(list(range(n_1)),shots=shots))\n",
    "    result = run(whool_circuit, IBMDevice.AER_SIMULATOR)\n",
    "    probabilities = list(result.probabilities)\n",
    "    print(probabilities)\n",
    "    most_probable = probabilities.index(max(probabilities))\n",
    "    print(most_probable)\n",
    "    \n",
    "    # From basis state to phase\n",
    "    max_count_state = format(most_probable, '0{}b'.format(n_1))[::-1]  # Reverse the bit order\n",
    "    print(max_count_state)\n",
    "    phase_estimation = int(max_count_state, 2) / (2 ** n_1)\n",
    "    \n",
    "    return phase_estimation\n",
    "    "
   ]
  },
  {
   "cell_type": "code",
   "execution_count": 71,
   "id": "77516b70",
   "metadata": {},
   "outputs": [
    {
     "name": "stdout",
     "output_type": "stream",
     "text": [
      "EigResult(eigenvalues=array([ 1., -1.]), eigenvectors=array([[1., 0.],\n",
      "       [0., 1.]]))\n",
      "[0.0, 0.0, 0.0, 0.0, 1.0, 0.0, 0.0, 0.0]\n",
      "4\n",
      "001\n",
      "phase : 0.125\n",
      "eigenvalue (0.7071067811865476+0.7071067811865476j)\n"
     ]
    }
   ],
   "source": [
    "state = np.array([0,1])\n",
    "U = CustomGate(UnitaryMatrix(np.diag([1,-1])),[0])\n",
    "print(np.linalg.eig(U.to_matrix()))\n",
    "n_1 = 3\n",
    "n_2 = 1\n",
    "phase = QPE(state, U, n_1,n_2, 10000)\n",
    "print(\"phase :\", phase)\n",
    "print(\"eigenvalue\", np.exp(1j*2*np.pi*phase))"
   ]
  },
  {
   "cell_type": "code",
   "execution_count": 65,
   "id": "cfeb8251",
   "metadata": {},
   "outputs": [
    {
     "data": {
      "text/plain": [
       "EigResult(eigenvalues=array([ 1., -1.]), eigenvectors=array([[1., 0.],\n",
       "       [0., 1.]]))"
      ]
     },
     "execution_count": 65,
     "metadata": {},
     "output_type": "execute_result"
    }
   ],
   "source": []
  },
  {
   "cell_type": "code",
   "execution_count": 59,
   "id": "da47f91e",
   "metadata": {},
   "outputs": [
    {
     "data": {
      "text/plain": [
       "array([[0., 1.],\n",
       "       [1., 0.]])"
      ]
     },
     "execution_count": 59,
     "metadata": {},
     "output_type": "execute_result"
    }
   ],
   "source": [
    "X(0).to_matrix()"
   ]
  }
 ],
 "metadata": {
  "kernelspec": {
   "display_name": "Python 3 (ipykernel)",
   "language": "python",
   "name": "python3"
  },
  "language_info": {
   "codemirror_mode": {
    "name": "ipython",
    "version": 3
   },
   "file_extension": ".py",
   "mimetype": "text/x-python",
   "name": "python",
   "nbconvert_exporter": "python",
   "pygments_lexer": "ipython3",
   "version": "3.9.5"
  }
 },
 "nbformat": 4,
 "nbformat_minor": 5
}
