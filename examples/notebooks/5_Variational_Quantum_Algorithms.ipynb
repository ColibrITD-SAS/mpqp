{
 "cells": [
  {
   "cell_type": "markdown",
   "id": "4bbe23e7",
   "metadata": {},
   "source": [
    "# Variational Quantum Algorithms module\n",
    "\n",
    "We provide to the user a module for make easier the execution of variational quantum algorithm. We explain in this notebook how to use these functions. Note that, for the moment, the module only handle local executions.\n",
    "\n",
    "We first import all needed functions from the ``vqa`` module."
   ]
  },
  {
   "cell_type": "code",
   "execution_count": 1,
   "id": "9c710ce5",
   "metadata": {},
   "outputs": [
    {
     "name": "stderr",
     "output_type": "stream",
     "text": [
      "<frozen importlib._bootstrap>:228: RuntimeWarning: scipy._lib.messagestream.MessageStream size changed, may indicate binary incompatibility. Expected 56 from C header, got 64 from PyObject\n"
     ]
    }
   ],
   "source": [
    "from mpqp.execution.vqa import *"
   ]
  },
  {
   "cell_type": "code",
   "execution_count": 2,
   "id": "f23e61a1",
   "metadata": {},
   "outputs": [
    {
     "name": "stdout",
     "output_type": "stream",
     "text": [
      "hi\n",
      "     ┌───────┐┌───────┐     \n",
      "q_0: ┤ Rx(x) ├┤ Rz(z) ├──■──\n",
      "     ├───────┤├───────┤┌─┴─┐\n",
      "q_1: ┤ Ry(y) ├┤ Rz(z) ├┤ X ├\n",
      "     └───────┘└───────┘└───┘\n"
     ]
    }
   ],
   "source": [
    "from mpqp import QCircuit\n",
    "from mpqp.gates import *\n",
    "from sympy import symbols\n",
    "\n",
    "x, y, z = symbols(\"x y z\")\n",
    "circuit = QCircuit([Rx(x, 0), Ry(y, 1), Rz(z,0), Rz(z,1), CNOT(0,1)])\n",
    "print(circuit)"
   ]
  },
  {
   "cell_type": "markdown",
   "id": "a38a9612",
   "metadata": {},
   "source": [
    "Once the user defined a circuit depending on variables, using ``symbols``, he can call the function ``minimize`` for two purposes:\n",
    "\n",
    " 1. Find the minimum energy of a hamiltonian with respect to the state produced by the circuit (VQE)\n",
    " 2. Minimize a custom and more complicated cost function defined by the user (general VQA)\n",
    "\n",
    "## Variational Quantum Eigensolver"
   ]
  },
  {
   "cell_type": "markdown",
   "id": "55b86619",
   "metadata": {},
   "source": [
    "We define an observable for which we want to find the ground state. Since the circuit has a fixed structure (ansatz) and is parametrized by some angles, finding the minimum energy is equivalent to finding the optimal parameters of the circuit, while supposing the structure has enough expressivity."
   ]
  },
  {
   "cell_type": "code",
   "execution_count": 3,
   "id": "bd43482a",
   "metadata": {},
   "outputs": [],
   "source": [
    "from mpqp.measures import Observable, ExpectationMeasure\n",
    "from mpqp.execution import IBMDevice, run"
   ]
  },
  {
   "cell_type": "code",
   "execution_count": 4,
   "id": "44afc8f9",
   "metadata": {},
   "outputs": [],
   "source": [
    "import numpy as np\n",
    "matrix = np.array([[4,  2,  3, 8],\n",
    "                   [2, -3,  1, 0],\n",
    "                   [3,  1, -1, 5],\n",
    "                   [8,  0,  5, 2]])\n",
    "hamiltonian = Observable(matrix)"
   ]
  },
  {
   "cell_type": "markdown",
   "id": "dd449ba2",
   "metadata": {},
   "source": [
    "We add to the circuit the corresponding ``ExpectationMeasure`` to be minimized by the optimizer."
   ]
  },
  {
   "cell_type": "code",
   "execution_count": 5,
   "id": "5f51aeef",
   "metadata": {},
   "outputs": [],
   "source": [
    "circuit.add(ExpectationMeasure([0, 1], observable=hamiltonian, shots=0))"
   ]
  },
  {
   "cell_type": "markdown",
   "id": "26a5ff93",
   "metadata": {},
   "source": [
    "We then call the ``minimize`` function directly on the function. We precise which ``Optimizer`` (enum) we want to select and on which local device we want to run the circuit and evaluate the expectation value. One can also precise additional optimizer options (see ``scipy.minimize`` documentation). If no initial value of the parameters is given, the parameters are all initialized at 0."
   ]
  },
  {
   "cell_type": "code",
   "execution_count": 6,
   "id": "d4f52900",
   "metadata": {},
   "outputs": [
    {
     "data": {
      "text/plain": [
       "(-5.062257678262567,\n",
       " array([-1.74101529e-04, -1.57086122e+00,  1.69523567e+00]))"
      ]
     },
     "execution_count": 6,
     "metadata": {},
     "output_type": "execute_result"
    }
   ],
   "source": [
    "minimize(circuit, Optimizer.COBYLA, IBMDevice.AER_SIMULATOR, optimizer_options={\"maxiter\":200})"
   ]
  },
  {
   "cell_type": "markdown",
   "id": "46f983ec",
   "metadata": {},
   "source": [
    "## Minimizing a custom cost function\n",
    "\n",
    "We can also exit the VQE setup by defining a more custom and complicated cost function to minimize. In that case, the running of the circuit will happen in that function, and it shoud return a ``float``. It takes as input the parameters of the circuit to optimize."
   ]
  },
  {
   "cell_type": "code",
   "execution_count": 7,
   "id": "b781a2d2",
   "metadata": {},
   "outputs": [],
   "source": [
    "circuit2 = circuit.without_measurements()\n",
    "def cost_function(params):\n",
    "    r1 = run(circuit2, IBMDevice.AER_SIMULATOR_STATEVECTOR, {x: params[0], y: params[1], z: params[2]})\n",
    "    r2 = run(circuit, IBMDevice.AER_SIMULATOR, {x: params[0], y: params[1], z: params[2]})\n",
    "    return abs(r1.amplitudes[0]) - np.sqrt(r2.expectation_value**3)"
   ]
  },
  {
   "cell_type": "markdown",
   "id": "4397ba76",
   "metadata": {},
   "source": [
    "Then, we call the ``minimize`` function but this time on the cost function. We again can choose the optimizer and its options, but there is no need to precise any device (since runs already explicited in the cost function). We precise also the number of parameters to optimize, and can eventually initialize the parameters with starting values."
   ]
  },
  {
   "cell_type": "code",
   "execution_count": 8,
   "id": "67255f46",
   "metadata": {},
   "outputs": [
    {
     "data": {
      "text/plain": [
       "(-36.044727730788836,\n",
       " array([-1.45462257e+00,  2.50036492e-04, -1.57049530e+00]))"
      ]
     },
     "execution_count": 8,
     "metadata": {},
     "output_type": "execute_result"
    }
   ],
   "source": [
    "minimize(cost_function, Optimizer.COBYLA, nb_params=3, optimizer_options={\"maxiter\":200})"
   ]
  },
  {
   "cell_type": "markdown",
   "id": "68ba27d0",
   "metadata": {},
   "source": [
    "The function returns tuple with the value of the cost function, and the associated solution parameters."
   ]
  }
 ],
 "metadata": {
  "kernelspec": {
   "display_name": "Python 3",
   "language": "python",
   "name": "python3"
  },
  "language_info": {
   "codemirror_mode": {
    "name": "ipython",
    "version": 3
   },
   "file_extension": ".py",
   "mimetype": "text/x-python",
   "name": "python",
   "nbconvert_exporter": "python",
   "pygments_lexer": "ipython3",
   "version": "3.9.5"
  }
 },
 "nbformat": 4,
 "nbformat_minor": 5
}
