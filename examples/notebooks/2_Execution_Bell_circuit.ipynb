{
 "cells": [
  {
   "cell_type": "markdown",
   "id": "22e48505",
   "metadata": {},
   "source": [
    "# Execution of the Bell circuit\n",
    "\n",
    "The \"Hello World!\" of Quantum Computing is the generation of the 2-qubit Bell state.\n",
    "\n",
    "## Creating the EPR/Bell state \n",
    "\n",
    "Let us start with the circuit:"
   ]
  },
  {
   "cell_type": "code",
   "execution_count": 1,
   "id": "f6c80145",
   "metadata": {},
   "outputs": [],
   "source": [
    "from mpqp import QCircuit\n",
    "from mpqp.gates import H, CNOT"
   ]
  },
  {
   "cell_type": "code",
   "execution_count": 2,
   "id": "c935a396",
   "metadata": {},
   "outputs": [
    {
     "name": "stdout",
     "output_type": "stream",
     "text": [
      "     ┌───┐     \n",
      "q_0: ┤ H ├──■──\n",
      "     └───┘┌─┴─┐\n",
      "q_1: ─────┤ X ├\n",
      "          └───┘\n"
     ]
    }
   ],
   "source": [
    "circuit = QCircuit([H(0), CNOT(0,1)], label=\"Bell state\")\n",
    "print(circuit)"
   ]
  },
  {
   "cell_type": "markdown",
   "id": "56c801bb",
   "metadata": {},
   "source": [
    "## Run the circuit on a local device\n",
    "\n",
    "We can execute a circuit on a local simulator by calling the function ``run`` and precising the device."
   ]
  },
  {
   "cell_type": "code",
   "execution_count": 3,
   "id": "3e65b837",
   "metadata": {},
   "outputs": [],
   "source": [
    "from mpqp.execution import run, ATOSDevice"
   ]
  },
  {
   "cell_type": "markdown",
   "id": "5a7e39d7",
   "metadata": {},
   "source": [
    "When no measure is added to the circuit, running the circuit will consist in\n",
    "extracting the state-vector at the output of the circuit.\n",
    "\n",
    "> ⚠ This feature is not supported on all backends"
   ]
  },
  {
   "cell_type": "code",
   "execution_count": 4,
   "id": "78af15b4",
   "metadata": {},
   "outputs": [
    {
     "name": "stdout",
     "output_type": "stream",
     "text": [
      "Result: Bell state, ATOSDevice, MYQLM_PYLINALG\n",
      " State vector: [0.70711, 0, 0, 0.70711]\n",
      " Probabilities: [0.5, 0, 0, 0.5]\n",
      " Number of qubits: 2\n",
      "[0.70710677+0.j 0.        +0.j 0.        +0.j 0.70710677+0.j]\n",
      "[0.5 0.  0.  0.5]\n"
     ]
    }
   ],
   "source": [
    "result = run(circuit, ATOSDevice.MYQLM_PYLINALG)\n",
    "print(result)\n",
    "print(result.amplitudes)\n",
    "print(result.probabilities)"
   ]
  },
  {
   "cell_type": "markdown",
   "id": "86a7173c",
   "metadata": {},
   "source": [
    "We can also add to the circuit a ``BasisMeasure``, consisting in sample the state in a given basis. By default, the basis is the computational one."
   ]
  },
  {
   "cell_type": "code",
   "execution_count": 5,
   "id": "19b00445",
   "metadata": {},
   "outputs": [],
   "source": [
    "from mpqp.measures import BasisMeasure"
   ]
  },
  {
   "cell_type": "markdown",
   "id": "c1fb628d",
   "metadata": {},
   "source": [
    "We precise which qubits we can to measure by inputting a list of indices, and precising the number of shots. When ``shots=0``, we end up in the same case as before, a statevector simulation."
   ]
  },
  {
   "cell_type": "code",
   "execution_count": 6,
   "id": "330f8b37",
   "metadata": {},
   "outputs": [
    {
     "name": "stdout",
     "output_type": "stream",
     "text": [
      "Result: Bell state, ATOSDevice, MYQLM_PYLINALG\n",
      " State vector: [0.70711, 0, 0, 0.70711]\n",
      " Probabilities: [0.5, 0, 0, 0.5]\n",
      " Number of qubits: 2\n"
     ]
    }
   ],
   "source": [
    "circuit.add(BasisMeasure([0,1], shots=0))\n",
    "result = run(circuit, ATOSDevice.MYQLM_PYLINALG)\n",
    "print(result)"
   ]
  },
  {
   "cell_type": "markdown",
   "id": "5bfb1221",
   "metadata": {},
   "source": [
    "When we precise a number of shots, the circuit will be sampled and the core of\n",
    "the `Result` will be a list of `Sample`. A precising the counts for each state\n",
    "of the basis."
   ]
  },
  {
   "cell_type": "code",
   "execution_count": 7,
   "id": "6425ff73",
   "metadata": {},
   "outputs": [],
   "source": [
    "circuit = circuit.without_measurements()\n",
    "circuit.add(BasisMeasure([0,1], shots=1024))"
   ]
  },
  {
   "cell_type": "code",
   "execution_count": 8,
   "id": "714d80db",
   "metadata": {},
   "outputs": [
    {
     "name": "stdout",
     "output_type": "stream",
     "text": [
      "Result: Bell state, ATOSDevice, MYQLM_PYLINALG\n",
      " Counts: [476, 0, 0, 548]\n",
      " Probabilities: [0.46484, 0, 0, 0.53516]\n",
      " Samples:\n",
      "  State: 00, Index: 0, Count: 476, Probability: 0.4648438\n",
      "  State: 11, Index: 3, Count: 548, Probability: 0.5351562\n",
      " Error: 0.015593944424785589\n",
      "[Sample(2, index=0, count=476, probability=0.46484375), Sample(2, index=3, count=548, probability=0.53515625)]\n",
      "[476, 0, 0, 548]\n",
      "[0.46484375 0.         0.         0.53515625]\n"
     ]
    }
   ],
   "source": [
    "result = run(circuit, ATOSDevice.MYQLM_PYLINALG)\n",
    "print(result)\n",
    "print(result.samples)\n",
    "print(result.counts)\n",
    "print(result.probabilities)"
   ]
  },
  {
   "cell_type": "markdown",
   "id": "4f5dcc72",
   "metadata": {},
   "source": [
    "## Run the circuit on multiple devices\n",
    "\n",
    "By using the same function ``run`` we can execute the circuit on several simulators at the time. One just has to give a list of devices instead of a single device."
   ]
  },
  {
   "cell_type": "code",
   "execution_count": 9,
   "id": "e2603bb2",
   "metadata": {},
   "outputs": [],
   "source": [
    "from mpqp.execution import IBMDevice, AWSDevice, GOOGLEDevice"
   ]
  },
  {
   "cell_type": "code",
   "execution_count": 10,
   "id": "cbe4dba3",
   "metadata": {},
   "outputs": [
    {
     "name": "stdout",
     "output_type": "stream",
     "text": [
      "BatchResult: 4 results\n",
      "Result: Bell state, ATOSDevice, MYQLM_PYLINALG\n",
      " Counts: [516, 0, 0, 508]\n",
      " Probabilities: [0.50391, 0, 0, 0.49609]\n",
      " Samples:\n",
      "  State: 00, Index: 0, Count: 516, Probability: 0.5039062\n",
      "  State: 11, Index: 3, Count: 508, Probability: 0.4960938\n",
      " Error: 0.01563215790957881\n",
      "Result: Bell state, IBMDevice, AER_SIMULATOR\n",
      " Counts: [497, 0, 0, 527]\n",
      " Probabilities: [0.48535, 0, 0, 0.51465]\n",
      " Samples:\n",
      "  State: 00, Index: 0, Count: 497, Probability: 0.4853516\n",
      "  State: 11, Index: 3, Count: 527, Probability: 0.5146484\n",
      " Error: None\n",
      "Result: Bell state, AWSDevice, BRAKET_LOCAL_SIMULATOR\n",
      " Counts: [522, 0, 0, 502]\n",
      " Probabilities: [0.50977, 0, 0, 0.49023]\n",
      " Samples:\n",
      "  State: 00, Index: 0, Count: 522, Probability: 0.5097656\n",
      "  State: 11, Index: 3, Count: 502, Probability: 0.4902344\n",
      " Error: None\n",
      "Result: Bell state, GOOGLEDevice, CIRQ_LOCAL_SIMULATOR\n",
      " Counts: [515, 0, 0, 509]\n",
      " Probabilities: [0.50293, 0, 0, 0.49707]\n",
      " Samples:\n",
      "  State: 00, Index: 0, Count: 515, Probability: 0.5029297\n",
      "  State: 11, Index: 3, Count: 509, Probability: 0.4970703\n",
      " Error: None\n"
     ]
    }
   ],
   "source": [
    "results = run(circuit, [ATOSDevice.MYQLM_PYLINALG, IBMDevice.AER_SIMULATOR, AWSDevice.BRAKET_LOCAL_SIMULATOR, GOOGLEDevice.CIRQ_LOCAL_SIMULATOR])\n",
    "print(results)"
   ]
  },
  {
   "cell_type": "code",
   "execution_count": 11,
   "id": "ec55e9d0",
   "metadata": {},
   "outputs": [
    {
     "name": "stdout",
     "output_type": "stream",
     "text": [
      "Result: Bell state, ATOSDevice, MYQLM_PYLINALG\n",
      " Counts: [516, 0, 0, 508]\n",
      " Probabilities: [0.50391, 0, 0, 0.49609]\n",
      " Samples:\n",
      "  State: 00, Index: 0, Count: 516, Probability: 0.5039062\n",
      "  State: 11, Index: 3, Count: 508, Probability: 0.4960938\n",
      " Error: 0.01563215790957881\n"
     ]
    }
   ],
   "source": [
    "print(results[0])"
   ]
  },
  {
   "cell_type": "markdown",
   "id": "cd44c510",
   "metadata": {},
   "source": [
    "## Run or submit the circuit on a remote device\n",
    "\n",
    "To execute the circuit on remote device, one can use the exact same process as\n",
    "with local devices. A call of the function `run` on a remote device will launch\n",
    "the job and wait until it finished before returning the result. One or\n",
    "several devices can still be given in parameter."
   ]
  },
  {
   "cell_type": "code",
   "execution_count": 12,
   "id": "37f9ebef",
   "metadata": {},
   "outputs": [
    {
     "name": "stdout",
     "output_type": "stream",
     "text": [
      "Result: Bell state, IBMDevice, IBM_KYIV\n",
      " Counts: [489, 13, 11, 511]\n",
      " Probabilities: [0.47754, 0.0127, 0.01074, 0.49902]\n",
      " Samples:\n",
      "  State: 00, Index: 0, Count: 489, Probability: 0.4775391\n",
      "  State: 01, Index: 1, Count: 13, Probability: 0.0126953\n",
      "  State: 10, Index: 2, Count: 11, Probability: 0.0107422\n",
      "  State: 11, Index: 3, Count: 511, Probability: 0.4990234\n",
      " Error: None\n"
     ]
    }
   ],
   "source": [
    "result = run(circuit, IBMDevice.IBM_LEAST_BUSY)\n",
    "print(result)"
   ]
  },
  {
   "cell_type": "markdown",
   "id": "fb56b214",
   "metadata": {},
   "source": [
    "However, it is also possible to asynchronously submit the job way using the `submit` function."
   ]
  },
  {
   "cell_type": "code",
   "execution_count": 13,
   "id": "9f3d9ab8",
   "metadata": {},
   "outputs": [],
   "source": [
    "from mpqp.execution import submit"
   ]
  },
  {
   "cell_type": "markdown",
   "id": "6a47a65d",
   "metadata": {},
   "source": [
    "By submitting the circuit to a remote device, we retrieve the id of the job\n",
    "attributed by the provider, as well as the corresponding MPQP job.\n",
    "\n",
    "The MPQP job object contains additional information, such as the `status` of the job."
   ]
  },
  {
   "cell_type": "code",
   "execution_count": 14,
   "id": "5acaf7b9",
   "metadata": {
    "tags": [
     "skip-execution"
    ]
   },
   "outputs": [
    {
     "name": "stdout",
     "output_type": "stream",
     "text": [
      "czpnk3mkzhn0008bpnsg\n"
     ]
    }
   ],
   "source": [
    "job_id, job = submit(circuit, IBMDevice.IBM_LEAST_BUSY)\n",
    "print(job_id)"
   ]
  },
  {
   "cell_type": "markdown",
   "id": "80172787",
   "metadata": {},
   "source": [
    "Once the computation is done, we use the function ``get_remote_result`` for\n",
    "retrieving the result. \n",
    "\n",
    "If the job is not completed, the function will wait (blocking) until it is done."
   ]
  },
  {
   "cell_type": "code",
   "execution_count": 15,
   "id": "748d8c5b",
   "metadata": {},
   "outputs": [],
   "source": [
    "from mpqp.execution import get_remote_result"
   ]
  },
  {
   "cell_type": "code",
   "execution_count": 16,
   "id": "fa67799f",
   "metadata": {
    "tags": [
     "skip-execution"
    ]
   },
   "outputs": [
    {
     "name": "stdout",
     "output_type": "stream",
     "text": [
      "Result: IBMDevice, IBM_KYIV\n",
      " Counts: [485, 2, 10, 527]\n",
      " Probabilities: [0.47363, 0.00195, 0.00977, 0.51465]\n",
      " Samples:\n",
      "  State: 00, Index: 0, Count: 485, Probability: 0.4736328\n",
      "  State: 01, Index: 1, Count: 2, Probability: 0.0019531\n",
      "  State: 10, Index: 2, Count: 10, Probability: 0.0097656\n",
      "  State: 11, Index: 3, Count: 527, Probability: 0.5146484\n",
      " Error: None\n"
     ]
    }
   ],
   "source": [
    "result = get_remote_result(job_id, IBMDevice.IBM_LEAST_BUSY)\n",
    "print(result)"
   ]
  }
 ],
 "metadata": {
  "kernelspec": {
   "display_name": "python_11",
   "language": "python",
   "name": "python3"
  },
  "language_info": {
   "codemirror_mode": {
    "name": "ipython",
    "version": 3
   },
   "file_extension": ".py",
   "mimetype": "text/x-python",
   "name": "python",
   "nbconvert_exporter": "python",
   "pygments_lexer": "ipython3",
   "version": "3.11.11"
  }
 },
 "nbformat": 4,
 "nbformat_minor": 5
}
