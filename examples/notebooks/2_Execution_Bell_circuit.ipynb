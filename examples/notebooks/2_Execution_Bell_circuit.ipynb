{
 "cells": [
  {
   "cell_type": "markdown",
   "id": "22e48505",
   "metadata": {},
   "source": [
    "# Execution of the Bell circuit\n",
    "\n",
    "The \"Hello World!\" of Quantum Computing is the generation of the 2-qubit Bell state.\n",
    "\n",
    "## Creating the EPR/Bell state \n",
    "\n",
    "Let us start with the circuit:"
   ]
  },
  {
   "cell_type": "code",
   "execution_count": 1,
   "id": "f6c80145",
   "metadata": {},
   "outputs": [],
   "source": [
    "from mpqp import QCircuit\n",
    "from mpqp.gates import H, CNOT"
   ]
  },
  {
   "cell_type": "code",
   "execution_count": 2,
   "id": "c935a396",
   "metadata": {},
   "outputs": [
    {
     "name": "stdout",
     "output_type": "stream",
     "text": [
      "     ┌───┐     \n",
      "q_0: ┤ H ├──■──\n",
      "     └───┘┌─┴─┐\n",
      "q_1: ─────┤ X ├\n",
      "          └───┘\n"
     ]
    }
   ],
   "source": [
    "circuit = QCircuit([H(0), CNOT(0,1)], label=\"Bell state\")\n",
    "print(circuit)"
   ]
  },
  {
   "cell_type": "markdown",
   "id": "56c801bb",
   "metadata": {},
   "source": [
    "## Run the circuit on a local device\n",
    "\n",
    "We can execute a circuit on a local simulator by calling the function ``run`` and precising the device."
   ]
  },
  {
   "cell_type": "code",
   "execution_count": 3,
   "id": "3e65b837",
   "metadata": {},
   "outputs": [],
   "source": [
    "from mpqp.execution import run, ATOSDevice"
   ]
  },
  {
   "cell_type": "markdown",
   "id": "5a7e39d7",
   "metadata": {},
   "source": [
    "When no measure is added to the circuit, running the circuit will consist in\n",
    "extracting the state-vector at the output of the circuit.\n",
    "\n",
    "> ⚠ This feature is not supported on all backends"
   ]
  },
  {
   "cell_type": "code",
   "execution_count": 4,
   "id": "78af15b4",
   "metadata": {},
   "outputs": [
    {
     "name": "stdout",
     "output_type": "stream",
     "text": [
      "Result: ATOSDevice, MYQLM_PYLINALG\n",
      " State vector: [0.7071068, 0, 0, 0.7071068]\n",
      " Probabilities: [0.5, 0, 0, 0.5]\n",
      " Number of qubits: 2\n",
      "\n",
      "[0.70710677+0.j 0.        +0.j 0.        +0.j 0.70710677+0.j]\n",
      "[0.5 0.  0.  0.5]\n"
     ]
    }
   ],
   "source": [
    "result = run(circuit, ATOSDevice.MYQLM_PYLINALG)\n",
    "print(result)\n",
    "print(result.amplitudes)\n",
    "print(result.probabilities)"
   ]
  },
  {
   "cell_type": "markdown",
   "id": "86a7173c",
   "metadata": {},
   "source": [
    "We can also add to the circuit a ``BasisMeasure``, consisting in sample the state in a given basis. By default, the basis is the computational one."
   ]
  },
  {
   "cell_type": "code",
   "execution_count": 5,
   "id": "19b00445",
   "metadata": {},
   "outputs": [],
   "source": [
    "from mpqp.measures import BasisMeasure"
   ]
  },
  {
   "cell_type": "markdown",
   "id": "c1fb628d",
   "metadata": {},
   "source": [
    "We precise which qubits we can to measure by inputting a list of indices, and precising the number of shots. When ``shots=0``, we end up in the same case as before, a statevector simulation."
   ]
  },
  {
   "cell_type": "code",
   "execution_count": 6,
   "id": "330f8b37",
   "metadata": {},
   "outputs": [
    {
     "name": "stdout",
     "output_type": "stream",
     "text": [
      "Result: ATOSDevice, MYQLM_PYLINALG\n",
      " State vector: [0.7071068, 0, 0, 0.7071068]\n",
      " Probabilities: [0.5, 0, 0, 0.5]\n",
      " Number of qubits: 2\n",
      "\n"
     ]
    }
   ],
   "source": [
    "circuit.add(BasisMeasure([0,1], shots=0))\n",
    "result = run(circuit, ATOSDevice.MYQLM_PYLINALG)\n",
    "print(result)"
   ]
  },
  {
   "cell_type": "markdown",
   "id": "5bfb1221",
   "metadata": {},
   "source": [
    "When we precise a number of shots, the circuit will be sampled and the core of\n",
    "the `Result` will be a list of `Sample`. A precising the counts for each state\n",
    "of the basis."
   ]
  },
  {
   "cell_type": "code",
   "execution_count": 7,
   "id": "6425ff73",
   "metadata": {},
   "outputs": [],
   "source": [
    "circuit = circuit.without_measurements()\n",
    "circuit.add(BasisMeasure([0,1], shots=1024))"
   ]
  },
  {
   "cell_type": "code",
   "execution_count": 8,
   "id": "714d80db",
   "metadata": {},
   "outputs": [
    {
     "name": "stdout",
     "output_type": "stream",
     "text": [
      "Result: ATOSDevice, MYQLM_PYLINALG\n",
      " Counts: [505, 0, 0, 519]\n",
      " Probabilities: [0.4931641, 0, 0, 0.5068359]\n",
      " Samples:\n",
      "  State: 00, Index: 0, Count: 505, Probability: 0.4931640625\n",
      "  State: 11, Index: 3, Count: 519, Probability: 0.5068359375\n",
      " Error: 0.015631173891374292\n",
      "\n",
      "[Sample(2, index=0, count=505, probability=0.4931640625), Sample(2, index=3, count=519, probability=0.5068359375)]\n",
      "[505, 0, 0, 519]\n",
      "[0.49316406 0.         0.         0.50683594]\n"
     ]
    }
   ],
   "source": [
    "result = run(circuit, ATOSDevice.MYQLM_PYLINALG)\n",
    "print(result)\n",
    "print(result.samples)\n",
    "print(result.counts)\n",
    "print(result.probabilities)"
   ]
  },
  {
   "cell_type": "markdown",
   "id": "4f5dcc72",
   "metadata": {},
   "source": [
    "## Run the circuit on multiple devices\n",
    "\n",
    "By using the same function ``run`` we can execute the circuit on several simulators at the time. One just has to give a list of devices instead of a single device."
   ]
  },
  {
   "cell_type": "code",
   "execution_count": 9,
   "id": "e2603bb2",
   "metadata": {},
   "outputs": [],
   "source": [
    "from mpqp.execution import IBMDevice, AWSDevice, GOOGLEDevice"
   ]
  },
  {
   "cell_type": "code",
   "execution_count": 10,
   "id": "cbe4dba3",
   "metadata": {},
   "outputs": [
    {
     "name": "stderr",
     "output_type": "stream",
     "text": [
      "c:\\Users\\JulienCalisto\\Documents\\MPQP_main_repo\\mpqp\\.venv\\lib\\site-packages\\mpqp\\qasm\\qasm_to_braket.py:80: UnsupportedBraketFeaturesWarning: \n",
      "This program uses OpenQASM language features that may not be supported on QPUs or on-demand simulators.\n",
      "  warnings.warn(\n",
      "\n"
     ]
    },
    {
     "name": "stdout",
     "output_type": "stream",
     "text": [
      "BatchResult: 4 results\n",
      "Result: ATOSDevice, MYQLM_PYLINALG\n",
      " Counts: [480, 0, 0, 544]\n",
      " Probabilities: [0.46875, 0, 0, 0.53125]\n",
      " Samples:\n",
      "  State: 00, Index: 0, Count: 480, Probability: 0.46875\n",
      "  State: 11, Index: 3, Count: 544, Probability: 0.53125\n",
      " Error: 0.0156020726215454\n",
      "Result: GOOGLEDevice, CIRQ_LOCAL_SIMULATOR\n",
      " Counts: [506, 0, 0, 518]\n",
      " Probabilities: [0.4941406, 0, 0, 0.5058594]\n",
      " Samples:\n",
      "  State: 00, Index: 0, Count: 506, Probability: 0.494140625\n",
      "  State: 11, Index: 3, Count: 518, Probability: 0.505859375\n",
      " Error: None\n",
      "Result: AWSDevice, BRAKET_LOCAL_SIMULATOR\n",
      " Counts: [513, 0, 0, 511]\n",
      " Probabilities: [0.5009766, 0, 0, 0.4990234]\n",
      " Samples:\n",
      "  State: 00, Index: 0, Count: 513, Probability: 0.5009765625\n",
      "  State: 11, Index: 3, Count: 511, Probability: 0.4990234375\n",
      " Error: None\n",
      "Result: IBMDevice, AER_SIMULATOR\n",
      " Counts: [530, 0, 0, 494]\n",
      " Probabilities: [0.5175781, 0, 0, 0.4824219]\n",
      " Samples:\n",
      "  State: 00, Index: 0, Count: 530, Probability: 0.517578125\n",
      "  State: 11, Index: 3, Count: 494, Probability: 0.482421875\n",
      " Error: None\n",
      "\n",
      "---------\n",
      "Result: ATOSDevice, MYQLM_PYLINALG\n",
      " Counts: [480, 0, 0, 544]\n",
      " Probabilities: [0.46875, 0, 0, 0.53125]\n",
      " Samples:\n",
      "  State: 00, Index: 0, Count: 480, Probability: 0.46875\n",
      "  State: 11, Index: 3, Count: 544, Probability: 0.53125\n",
      " Error: 0.0156020726215454\n",
      "\n"
     ]
    }
   ],
   "source": [
    "results = run(circuit, [ATOSDevice.MYQLM_PYLINALG, IBMDevice.AER_SIMULATOR, AWSDevice.BRAKET_LOCAL_SIMULATOR, GOOGLEDevice.CIRQ_LOCAL_SIMULATOR])\n",
    "print(results)\n",
    "print('---------')\n",
    "print(results[0])"
   ]
  },
  {
   "cell_type": "markdown",
   "id": "cd44c510",
   "metadata": {},
   "source": [
    "## Run or submit the circuit on a remote device\n",
    "\n",
    "To execute the circuit on remote device, one can use the exact same process as\n",
    "with local devices. A call of the function `run` on a remote device will launch\n",
    "the job and wait until it finished before returning the result. One or\n",
    "several devices can still be given in parameter."
   ]
  },
  {
   "cell_type": "code",
   "execution_count": 11,
   "id": "37f9ebef",
   "metadata": {},
   "outputs": [
    {
     "name": "stderr",
     "output_type": "stream",
     "text": [
      "UserWarning: Cloud simulators have been deprecated and will be removed on 15 May 2024. Use the new local testing mode in qiskit-ibm-runtime version 0.22.0 or later to meet your debugging needs.\n"
     ]
    },
    {
     "name": "stdout",
     "output_type": "stream",
     "text": [
      "Result: IBMDevice, IBMQ_QASM_SIMULATOR\n",
      " Counts: [500, 0, 0, 524]\n",
      " Probabilities: [0.48828125 0.         0.         0.51171875]\n",
      " Samples:\n",
      "  State: 00, Index: 0, Count: 500, Probability: 0.48828125\n",
      "  State: 11, Index: 3, Count: 524, Probability: 0.51171875\n",
      " Error: None\n",
      "\n"
     ]
    }
   ],
   "source": [
    "result = run(circuit, IBMDevice.IBMQ_QASM_SIMULATOR)\n",
    "print(result)"
   ]
  },
  {
   "cell_type": "markdown",
   "id": "fb56b214",
   "metadata": {},
   "source": [
    "However, it is also possible to asynchronously submit the job way using the `submit` function."
   ]
  },
  {
   "cell_type": "code",
   "execution_count": 12,
   "id": "9f3d9ab8",
   "metadata": {},
   "outputs": [],
   "source": [
    "from mpqp.execution import submit"
   ]
  },
  {
   "cell_type": "markdown",
   "id": "6a47a65d",
   "metadata": {},
   "source": [
    "By submitting the circuit to a remote device, we retrieve the id of the job\n",
    "attributed by the provider, as well as the corresponding MPQP job.\n",
    "\n",
    "The MPQP job object contains additional information, such as the `status` of the job."
   ]
  },
  {
   "cell_type": "code",
   "execution_count": 13,
   "id": "5acaf7b9",
   "metadata": {},
   "outputs": [
    {
     "name": "stdout",
     "output_type": "stream",
     "text": [
      "coogal6phvvei9s9j13g\n"
     ]
    }
   ],
   "source": [
    "job_id, job = submit(circuit, IBMDevice.IBMQ_QASM_SIMULATOR)\n",
    "print(job_id)"
   ]
  },
  {
   "cell_type": "markdown",
   "id": "80172787",
   "metadata": {},
   "source": [
    "Once the computation is done, we use the function ``get_remote_result`` for\n",
    "retrieving the result. \n",
    "\n",
    "If the job is not completed, the function will wait (blocking) until it is done."
   ]
  },
  {
   "cell_type": "code",
   "execution_count": 14,
   "id": "2619c488",
   "metadata": {},
   "outputs": [],
   "source": [
    "from mpqp.execution import get_remote_result"
   ]
  },
  {
   "cell_type": "code",
   "execution_count": 15,
   "id": "fa67799f",
   "metadata": {},
   "outputs": [
    {
     "name": "stdout",
     "output_type": "stream",
     "text": [
      "Result: IBMDevice, IBMQ_QASM_SIMULATOR\n",
      " Counts: [531, 0, 0, 493]\n",
      " Probabilities: [0.51855469 0.         0.         0.48144531]\n",
      " Samples:\n",
      "  State: 00, Index: 0, Count: 531, Probability: 0.5185546875\n",
      "  State: 11, Index: 3, Count: 493, Probability: 0.4814453125\n",
      " Error: None\n",
      "\n"
     ]
    }
   ],
   "source": [
    "result = get_remote_result(job_id, IBMDevice.IBMQ_QASM_SIMULATOR)\n",
    "print(result)"
   ]
  }
 ],
 "metadata": {
  "kernelspec": {
   "display_name": "Python 3",
   "language": "python",
   "name": "python3"
  },
  "language_info": {
   "codemirror_mode": {
    "name": "ipython",
    "version": 3
   },
   "file_extension": ".py",
   "mimetype": "text/x-python",
   "name": "python",
   "nbconvert_exporter": "python",
   "pygments_lexer": "ipython3",
   "version": "3.9.12"
  }
 },
 "nbformat": 4,
 "nbformat_minor": 5
}
