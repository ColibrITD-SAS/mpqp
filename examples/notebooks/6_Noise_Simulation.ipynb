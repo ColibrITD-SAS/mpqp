{
 "cells": [
  {
   "cell_type": "markdown",
   "metadata": {},
   "source": [
    "# Simulating noise on MPQP\n",
    "\n",
    "Quantum computers hold immense potential, but a major hurdle is the quantum noise. Noise refers to anything that disrupts a quantum computer's calculations. Being able to simulate and study the behavior of quantum circuits under the effect of noise is crucial in the NISQ era.\n",
    "\n",
    "In this Notebook, we describe how to run noisy simulations by defining noise models, adding them to a ``QCircuit``, and finally run the circuit. In this notebook, we will focus, with a practical approach, on the simulation of `Depolarizing`, `BitFlip`, `AmplitudeDamping` noise models."
   ]
  },
  {
   "cell_type": "code",
   "execution_count": 1,
   "metadata": {},
   "outputs": [],
   "source": [
    "from mpqp import QCircuit, Language\n",
    "from mpqp.gates import *\n",
    "from mpqp.noise import *\n",
    "from mpqp.measures import BasisMeasure\n",
    "from mpqp.execution import *"
   ]
  },
  {
   "cell_type": "markdown",
   "metadata": {},
   "source": [
    "# Instantiating a noise model\n",
    "\n",
    "We define an abstract class ``NoiseModel`` representing noisy channels acting on the qubits of the circuit, either after each gate application, or as an interaction with the environement (what is called idle noise). Each predefined noise model should extend this class, which has common attributes ``targets`` (indicating the indices of the qubits affected by this noise model) and the optional ``gates`` (indicating specific gates after which the noise will be applied)"
   ]
  },
  {
   "cell_type": "markdown",
   "metadata": {},
   "source": [
    "### 1- Depolarizing noise model\n",
    "\n",
    "If one wants to apply a depolarizing noise on the circuit, he can use the class ``Depolarizing``, which is extending the class ``NoiseModel``. We then can specify two additional argument: a first mandatory argument indicating the probability, or the error rate of the channel, and the ``dimension`` parameter allowing us to target specific gates within a quantum circuit."
   ]
  },
  {
   "cell_type": "markdown",
   "metadata": {},
   "source": [
    "First, we can define the ``Depolarizing`` model by providing a probability and the list of target qubits. One can target all qubits of a circuit or just select specific ones. By default, the parameter ``dimension``is equal to 1, and having a multi-qubit target will imply a tensor product of one qubit channels based on the instantiated depolarizing noise."
   ]
  },
  {
   "cell_type": "code",
   "execution_count": 2,
   "metadata": {},
   "outputs": [
    {
     "data": {
      "text/plain": [
       "Depolarizing(0.5, [0, 1, 2])"
      ]
     },
     "execution_count": 2,
     "metadata": {},
     "output_type": "execute_result"
    }
   ],
   "source": [
    "Depolarizing(0.5, [0, 1, 2])"
   ]
  },
  {
   "cell_type": "markdown",
   "metadata": {},
   "source": [
    "One can also precise a higher ``dimension`` when the number of target qubits allows it, and this can imply the application of several noise models. In fact, if the number of ``targets`` is higher than the dimension, we will consider all possible combinations of the target qubits that matches the depolarizing ``dimension``. However, if the number of target qubits is equal to the ``dimension``, a unique noise model will be applied."
   ]
  },
  {
   "cell_type": "code",
   "execution_count": 3,
   "metadata": {},
   "outputs": [
    {
     "data": {
      "text/plain": [
       "Depolarizing(0.1, [0, 1, 2], dimension=2)"
      ]
     },
     "execution_count": 3,
     "metadata": {},
     "output_type": "execute_result"
    }
   ],
   "source": [
    "Depolarizing(0.1, [0, 1, 2], dimension=2)"
   ]
  },
  {
   "cell_type": "markdown",
   "metadata": {},
   "source": [
    "If we want to attach a noise model to specific gates, we can specify them in a list and input them in the parameter ``gates``. Then, the noise will be applied only after gates that appear in the list in parameter, and for which target qubits (in the sense of application of the unitary operation, so it includes control qubits) were precised in the second parameter ``targets``. When precising the ``gates`` one has to give the class of the gate, extending ``NativeGate``, and not an instance of the gate."
   ]
  },
  {
   "cell_type": "code",
   "execution_count": 4,
   "metadata": {},
   "outputs": [
    {
     "data": {
      "text/plain": [
       "Depolarizing(0.23, [2, 3], gates=[H, Rx, U])"
      ]
     },
     "execution_count": 4,
     "metadata": {},
     "output_type": "execute_result"
    }
   ],
   "source": [
    "Depolarizing(0.23, [2, 3], gates=[H, Rx, U])"
   ]
  },
  {
   "cell_type": "markdown",
   "metadata": {},
   "source": [
    "Note that in the previous example, only one-qubit gates were specified for the noise. If the ``dimension`` is higher, one has to input ``gates`` for which the size matches exactly the ``dimension``."
   ]
  },
  {
   "cell_type": "code",
   "execution_count": 5,
   "metadata": {},
   "outputs": [],
   "source": [
    "d = Depolarizing(0.45, [1, 3, 4], dimension=2, gates=[CNOT, CZ])"
   ]
  },
  {
   "cell_type": "code",
   "execution_count": 6,
   "metadata": {},
   "outputs": [
    {
     "data": {
      "text/plain": [
       "TwoQubitDepolarizing('probability': 0.45, 'qubit_count': 2)"
      ]
     },
     "execution_count": 6,
     "metadata": {},
     "output_type": "execute_result"
    }
   ],
   "source": [
    "d.to_other_language(Language.BRAKET)"
   ]
  },
  {
   "cell_type": "code",
   "execution_count": 7,
   "metadata": {},
   "outputs": [
    {
     "name": "stdout",
     "output_type": "stream",
     "text": [
      "Depolarizing channel, p = 0.45:\n",
      "[[0.74161985 0.         0.         0.        ]\n",
      " [0.         0.74161985 0.         0.        ]\n",
      " [0.         0.         0.74161985 0.        ]\n",
      " [0.         0.         0.         0.74161985]]\n",
      "[[0.        +0.j 0.17320508+0.j 0.        +0.j 0.        +0.j]\n",
      " [0.17320508+0.j 0.        +0.j 0.        +0.j 0.        +0.j]\n",
      " [0.        +0.j 0.        +0.j 0.        +0.j 0.17320508+0.j]\n",
      " [0.        +0.j 0.        +0.j 0.17320508+0.j 0.        +0.j]]\n",
      "[[0.+0.j         0.-0.17320508j 0.+0.j         0.+0.j        ]\n",
      " [0.+0.17320508j 0.+0.j         0.+0.j         0.+0.j        ]\n",
      " [0.+0.j         0.+0.j         0.+0.j         0.-0.17320508j]\n",
      " [0.+0.j         0.+0.j         0.+0.17320508j 0.+0.j        ]]\n",
      "[[ 0.17320508+0.j  0.        +0.j  0.        +0.j  0.        +0.j]\n",
      " [ 0.        +0.j -0.17320508+0.j  0.        +0.j -0.        +0.j]\n",
      " [ 0.        +0.j  0.        +0.j  0.17320508+0.j  0.        +0.j]\n",
      " [ 0.        +0.j -0.        +0.j  0.        +0.j -0.17320508+0.j]]\n",
      "[[0.        +0.j 0.        +0.j 0.17320508+0.j 0.        +0.j]\n",
      " [0.        +0.j 0.        +0.j 0.        +0.j 0.17320508+0.j]\n",
      " [0.17320508+0.j 0.        +0.j 0.        +0.j 0.        +0.j]\n",
      " [0.        +0.j 0.17320508+0.j 0.        +0.j 0.        +0.j]]\n",
      "[[0.        +0.j 0.        +0.j 0.        +0.j 0.17320508+0.j]\n",
      " [0.        +0.j 0.        +0.j 0.17320508+0.j 0.        +0.j]\n",
      " [0.        +0.j 0.17320508+0.j 0.        +0.j 0.        +0.j]\n",
      " [0.17320508+0.j 0.        +0.j 0.        +0.j 0.        +0.j]]\n",
      "[[0.+0.j         0.+0.j         0.+0.j         0.-0.17320508j]\n",
      " [0.+0.j         0.+0.j         0.+0.17320508j 0.+0.j        ]\n",
      " [0.+0.j         0.-0.17320508j 0.+0.j         0.+0.j        ]\n",
      " [0.+0.17320508j 0.+0.j         0.+0.j         0.+0.j        ]]\n",
      "[[ 0.        +0.j  0.        +0.j  0.17320508+0.j  0.        +0.j]\n",
      " [ 0.        +0.j -0.        +0.j  0.        +0.j -0.17320508+0.j]\n",
      " [ 0.17320508+0.j  0.        +0.j  0.        +0.j  0.        +0.j]\n",
      " [ 0.        +0.j -0.17320508+0.j  0.        +0.j -0.        +0.j]]\n",
      "[[0.+0.j         0.+0.j         0.-0.17320508j 0.+0.j        ]\n",
      " [0.+0.j         0.+0.j         0.+0.j         0.-0.17320508j]\n",
      " [0.+0.17320508j 0.+0.j         0.+0.j         0.+0.j        ]\n",
      " [0.+0.j         0.+0.17320508j 0.+0.j         0.+0.j        ]]\n",
      "[[0.+0.j         0.+0.j         0.+0.j         0.-0.17320508j]\n",
      " [0.+0.j         0.+0.j         0.-0.17320508j 0.+0.j        ]\n",
      " [0.+0.j         0.+0.17320508j 0.+0.j         0.+0.j        ]\n",
      " [0.+0.17320508j 0.+0.j         0.+0.j         0.+0.j        ]]\n",
      "[[ 0.        +0.j  0.        +0.j  0.        +0.j -0.17320508+0.j]\n",
      " [ 0.        +0.j  0.        +0.j  0.17320508+0.j  0.        +0.j]\n",
      " [ 0.        +0.j  0.17320508+0.j  0.        +0.j  0.        +0.j]\n",
      " [-0.17320508+0.j  0.        +0.j  0.        +0.j  0.        +0.j]]\n",
      "[[ 0.+0.j          0.+0.j          0.-0.17320508j  0.+0.j        ]\n",
      " [ 0.+0.j         -0.+0.j          0.+0.j          0.+0.17320508j]\n",
      " [ 0.+0.17320508j  0.+0.j          0.+0.j          0.+0.j        ]\n",
      " [ 0.+0.j          0.-0.17320508j  0.+0.j         -0.+0.j        ]]\n",
      "[[ 0.17320508+0.j  0.        +0.j  0.        +0.j  0.        +0.j]\n",
      " [ 0.        +0.j  0.17320508+0.j  0.        +0.j  0.        +0.j]\n",
      " [ 0.        +0.j  0.        +0.j -0.17320508+0.j -0.        +0.j]\n",
      " [ 0.        +0.j  0.        +0.j -0.        +0.j -0.17320508+0.j]]\n",
      "[[ 0.        +0.j  0.17320508+0.j  0.        +0.j  0.        +0.j]\n",
      " [ 0.17320508+0.j  0.        +0.j  0.        +0.j  0.        +0.j]\n",
      " [ 0.        +0.j  0.        +0.j -0.        +0.j -0.17320508+0.j]\n",
      " [ 0.        +0.j  0.        +0.j -0.17320508+0.j -0.        +0.j]]\n",
      "[[ 0.+0.j          0.-0.17320508j  0.+0.j          0.+0.j        ]\n",
      " [ 0.+0.17320508j  0.+0.j          0.+0.j          0.+0.j        ]\n",
      " [ 0.+0.j          0.+0.j         -0.+0.j          0.+0.17320508j]\n",
      " [ 0.+0.j          0.+0.j          0.-0.17320508j -0.+0.j        ]]\n",
      "[[ 0.17320508+0.j  0.        +0.j  0.        +0.j  0.        +0.j]\n",
      " [ 0.        +0.j -0.17320508+0.j  0.        +0.j -0.        +0.j]\n",
      " [ 0.        +0.j  0.        +0.j -0.17320508+0.j -0.        +0.j]\n",
      " [ 0.        +0.j -0.        +0.j -0.        +0.j  0.17320508+0.j]]\n",
      "\n"
     ]
    }
   ],
   "source": [
    "print(d.to_other_language(Language.MY_QLM))"
   ]
  },
  {
   "cell_type": "markdown",
   "metadata": {},
   "source": [
    "### 2- BitFlip noise model\n",
    "\n",
    "To apply a bit flip noise on the circuit, we use the class ``BitFlip``, which is extending the class ``NoiseModel``. We then can specify a mandatory argument indicating the probability (the error rate of the channel).\n",
    "\n",
    "First, we can define the BitFlip model by providing a probability and the list of target qubits. One can target all qubits of a circuit or just select specific ones. By default, the parameter gates is an empty list, and having a multi-qubit target will imply the application of single-qubit bit flip channels to each qubit associated with the specified gates."
   ]
  },
  {
   "cell_type": "code",
   "execution_count": 8,
   "metadata": {},
   "outputs": [
    {
     "data": {
      "text/plain": [
       "BitFlip(0.4, [0, 1, 2])"
      ]
     },
     "execution_count": 8,
     "metadata": {},
     "output_type": "execute_result"
    }
   ],
   "source": [
    "BitFlip(0.4, [0, 1, 2])"
   ]
  },
  {
   "cell_type": "code",
   "execution_count": 9,
   "metadata": {},
   "outputs": [
    {
     "data": {
      "text/plain": [
       "BitFlip(0.2, [1, 2], gates=[H, Rx])"
      ]
     },
     "execution_count": 9,
     "metadata": {},
     "output_type": "execute_result"
    }
   ],
   "source": [
    "BitFlip(0.2, [1, 2], gates=[H, Rx])"
   ]
  },
  {
   "cell_type": "markdown",
   "metadata": {},
   "source": [
    "If no targets are specified, the bit flip noise will be applied to all qubits in the circuit."
   ]
  },
  {
   "cell_type": "code",
   "execution_count": 10,
   "metadata": {},
   "outputs": [
    {
     "name": "stdout",
     "output_type": "stream",
     "text": [
      "BitFlip(0.5)\n"
     ]
    }
   ],
   "source": [
    "print(BitFlip(0.5))"
   ]
  },
  {
   "cell_type": "code",
   "execution_count": 11,
   "metadata": {},
   "outputs": [],
   "source": [
    "bf = BitFlip(0.45, [1, 3, 4], gates=[CNOT, CZ])"
   ]
  },
  {
   "cell_type": "code",
   "execution_count": 12,
   "metadata": {},
   "outputs": [
    {
     "data": {
      "text/plain": [
       "BitFlip('probability': 0.45, 'qubit_count': 1)"
      ]
     },
     "execution_count": 12,
     "metadata": {},
     "output_type": "execute_result"
    }
   ],
   "source": [
    "bf.to_other_language(Language.BRAKET)"
   ]
  },
  {
   "cell_type": "markdown",
   "metadata": {},
   "source": [
    "### 3- AmplitudeDamping noise model\n",
    "\n",
    "We can define the ``AmplitudeDamping`` model by providing the decay rate ``gamma``. Another parameter is the probability of environment excitation ``prob``, which default value is one (which represents the standard amplitude damping noise). When it's not one, that means the excitation is ``spontaneous`` which represents the generalized form of the amplitude damping noise. \n",
    "\n",
    "One can target all qubits of a circuit or just select specific ones. If no targets are specified, the noise model will be applied to all qubits in the circuit. By default, the parameter gates is an empty list."
   ]
  },
  {
   "cell_type": "code",
   "execution_count": 13,
   "metadata": {},
   "outputs": [
    {
     "data": {
      "text/plain": [
       "AmplitudeDamping(0.3, targets=[0, 1, 2])"
      ]
     },
     "execution_count": 13,
     "metadata": {},
     "output_type": "execute_result"
    }
   ],
   "source": [
    "AmplitudeDamping(0.3, targets=[0, 1, 2])"
   ]
  },
  {
   "cell_type": "code",
   "execution_count": 14,
   "metadata": {},
   "outputs": [
    {
     "data": {
      "text/plain": [
       "AmplitudeDamping(0.23, prob=0.6, targets=[2, 3], gates=[H, Rx, U])"
      ]
     },
     "execution_count": 14,
     "metadata": {},
     "output_type": "execute_result"
    }
   ],
   "source": [
    "AmplitudeDamping(0.23, 0.6, [2, 3], gates=[H, Rx, U])"
   ]
  },
  {
   "cell_type": "markdown",
   "metadata": {},
   "source": [
    "If no targets are specified, the bit flip noise will be applied to all qubits in the circuit."
   ]
  },
  {
   "cell_type": "code",
   "execution_count": 15,
   "metadata": {},
   "outputs": [
    {
     "name": "stdout",
     "output_type": "stream",
     "text": [
      "AmplitudeDamping(0.5)\n"
     ]
    }
   ],
   "source": [
    "print(AmplitudeDamping(0.5))"
   ]
  },
  {
   "cell_type": "code",
   "execution_count": 16,
   "metadata": {},
   "outputs": [
    {
     "name": "stdout",
     "output_type": "stream",
     "text": [
      "AmplitudeDamping(0.5, prob=0.3)\n"
     ]
    }
   ],
   "source": [
    "print(AmplitudeDamping(0.5, 0.3))"
   ]
  },
  {
   "cell_type": "code",
   "execution_count": 17,
   "metadata": {},
   "outputs": [],
   "source": [
    "ad = AmplitudeDamping(0.23, targets=[2, 3], gates=[H, Rx, U])"
   ]
  },
  {
   "cell_type": "code",
   "execution_count": 18,
   "metadata": {},
   "outputs": [
    {
     "data": {
      "text/plain": [
       "AmplitudeDamping('gamma': 0.23, 'qubit_count': 1)"
      ]
     },
     "execution_count": 18,
     "metadata": {},
     "output_type": "execute_result"
    }
   ],
   "source": [
    "ad.to_other_language(Language.BRAKET)"
   ]
  },
  {
   "cell_type": "code",
   "execution_count": 19,
   "metadata": {},
   "outputs": [],
   "source": [
    "gad = AmplitudeDamping(0.23, 0.6, [2, 3], gates=[H, Rx, U])"
   ]
  },
  {
   "cell_type": "code",
   "execution_count": 20,
   "metadata": {},
   "outputs": [
    {
     "data": {
      "text/plain": [
       "GeneralizedAmplitudeDamping('gamma': 0.23, 'probability': 0.6, 'qubit_count': 1)"
      ]
     },
     "execution_count": 20,
     "metadata": {},
     "output_type": "execute_result"
    }
   ],
   "source": [
    "gad.to_other_language(Language.BRAKET)"
   ]
  },
  {
   "cell_type": "markdown",
   "metadata": {},
   "source": [
    "## Adding noise to the circuit"
   ]
  },
  {
   "cell_type": "markdown",
   "metadata": {},
   "source": [
    "Once we define the desired noise models, we have to attach them to the circuit. One way of doing this is by instantiating directly the circuit with the list of ``Instruction`` and ``NoiseModel``."
   ]
  },
  {
   "cell_type": "code",
   "execution_count": 21,
   "metadata": {},
   "outputs": [
    {
     "name": "stdout",
     "output_type": "stream",
     "text": [
      "     ┌───┐          ┌─┐   \n",
      "q_0: ┤ H ├──■───────┤M├───\n",
      "     └───┘┌─┴─┐┌───┐└╥┘┌─┐\n",
      "q_1: ─────┤ X ├┤ Y ├─╫─┤M├\n",
      "          └───┘└───┘ ║ └╥┘\n",
      "c: 2/════════════════╩══╩═\n",
      "                     0  1 \n",
      "NoiseModel:\n",
      "    BitFlip(0.3, [0], gates=[H])\n",
      "    AmplitudeDamping(0.3, prob=0.6, targets=[0, 1], gates=[H])\n",
      "    Depolarizing(0.3, [0], gates=[H])\n"
     ]
    }
   ],
   "source": [
    "circuit_1 = QCircuit([H(0), CNOT(0,1), Y(1), BasisMeasure([0,1], shots=100), \n",
    "                      BitFlip(0.3, [0], gates=[H]), \n",
    "                      AmplitudeDamping(0.3, 0.6, [0, 1], gates=[H]), \n",
    "                      Depolarizing(0.3, [0], gates=[H])])\n",
    "\n",
    "print(circuit_1)"
   ]
  },
  {
   "cell_type": "markdown",
   "metadata": {},
   "source": [
    "One can also use the method ``add(...)`` on an already instantiated ``QCircuit``."
   ]
  },
  {
   "cell_type": "code",
   "execution_count": 22,
   "metadata": {},
   "outputs": [
    {
     "name": "stdout",
     "output_type": "stream",
     "text": [
      "QCircuit : Size (Qubits, Cbits) = (2, 2), Nb instructions = 4\n",
      "Depolarizing noise: on qubit 0 with probability 0.08\n",
      "AmplitudeDamping noise: on qubit 0 with gamma 0.4\n",
      "BitFlip noise: on qubit 1 with probability 0.13\n",
      "     ┌───┐          ┌─┐   \n",
      "q_0: ┤ H ├──■───────┤M├───\n",
      "     └───┘┌─┴─┐┌───┐└╥┘┌─┐\n",
      "q_1: ─────┤ X ├┤ Y ├─╫─┤M├\n",
      "          └───┘└───┘ ║ └╥┘\n",
      "c: 2/════════════════╩══╩═\n",
      "                     0  1 \n"
     ]
    }
   ],
   "source": [
    "circuit_2 = QCircuit([H(0), CNOT(0,1), Y(1), BasisMeasure([0,1], shots=100)])\n",
    "circuit_2.add([Depolarizing(0.08, [0]), AmplitudeDamping(0.4, targets=[0]), BitFlip(0.13, [1])])\n",
    "circuit_2.pretty_print()"
   ]
  },
  {
   "cell_type": "markdown",
   "metadata": {},
   "source": [
    "We can get the list of noise models attached to a circuit using the ``noises`` attributes."
   ]
  },
  {
   "cell_type": "code",
   "execution_count": 23,
   "metadata": {},
   "outputs": [
    {
     "name": "stdout",
     "output_type": "stream",
     "text": [
      "[Depolarizing(0.08, [0]), AmplitudeDamping(0.4, targets=[0]), BitFlip(0.13, [1])]\n"
     ]
    }
   ],
   "source": [
    "print(circuit_2.noises)"
   ]
  },
  {
   "cell_type": "markdown",
   "metadata": {},
   "source": [
    "One can also retrieve the circuit without any noise model."
   ]
  },
  {
   "cell_type": "code",
   "execution_count": 24,
   "metadata": {},
   "outputs": [
    {
     "data": {
      "text/plain": [
       "QCircuit([H(0), CNOT(0,1), Y(1), BasisMeasure(0, 1, shots=100)], nb_qubits=2, nb_cbits=2, label=\"None\")"
      ]
     },
     "execution_count": 24,
     "metadata": {},
     "output_type": "execute_result"
    }
   ],
   "source": [
    "circuit_2.without_noises()"
   ]
  },
  {
   "cell_type": "markdown",
   "metadata": {},
   "source": [
    "When translating a ``QCircuit`` to another SDK's circuit, if the noise is directly defined within the circuit, we also include the attached noise models. It is the case for AWS Braket Circuits."
   ]
  },
  {
   "cell_type": "code",
   "execution_count": 26,
   "metadata": {},
   "outputs": [
    {
     "name": "stderr",
     "output_type": "stream",
     "text": [
      "\n"
     ]
    },
    {
     "name": "stdout",
     "output_type": "stream",
     "text": [
      "T  : │               0                │                1                │        2         │\n",
      "      ┌───┐ ┌─────────┐ ┌────────────┐       ┌─────────┐  ┌────────────┐                    \n",
      "q0 : ─┤ H ├─┤ AD(0.4) ├─┤ DEPO(0.08) ├───●───┤ AD(0.4) ├──┤ DEPO(0.08) ├────────────────────\n",
      "      └───┘ └─────────┘ └────────────┘   │   └─────────┘  └────────────┘                    \n",
      "                                       ┌─┴─┐ ┌──────────┐                ┌───┐ ┌──────────┐ \n",
      "q1 : ──────────────────────────────────┤ X ├─┤ BF(0.13) ├────────────────┤ Y ├─┤ BF(0.13) ├─\n",
      "                                       └───┘ └──────────┘                └───┘ └──────────┘ \n",
      "T  : │               0                │                1                │        2         │\n"
     ]
    }
   ],
   "source": [
    "noisy_braket_circuit = circuit_2.to_other_language(Language.BRAKET)\n",
    "print(noisy_braket_circuit)"
   ]
  },
  {
   "cell_type": "markdown",
   "metadata": {},
   "source": [
    "## Running noisy circuits"
   ]
  },
  {
   "cell_type": "markdown",
   "metadata": {},
   "source": [
    "Once we defined our noisy circuit, we would eventually like to simulate the circuit on a noisy simulator. For this example, we will focus only on AWS Braket devices.\n",
    "\n",
    "All ``AvailableDevice`` must implemented a method called ``is_noisy_simulator()``, indicating wether a given device can simulate noisy circuit."
   ]
  },
  {
   "cell_type": "code",
   "execution_count": 27,
   "metadata": {},
   "outputs": [
    {
     "name": "stdout",
     "output_type": "stream",
     "text": [
      "BRAKET_LOCAL_SIMULATOR | True\n",
      "BRAKET_SV1_SIMULATOR | False\n",
      "BRAKET_DM1_SIMULATOR | True\n",
      "BRAKET_TN1_SIMULATOR | False\n",
      "BRAKET_IONQ_HARMONY | False\n",
      "BRAKET_IONQ_ARIA_1 | False\n",
      "BRAKET_IONQ_ARIA_2 | False\n",
      "BRAKET_IONQ_FORTE_1 | False\n",
      "BRAKET_OQC_LUCY | False\n",
      "BRAKET_QUERA_AQUILA | False\n",
      "BRAKET_RIGETTI_ASPEN_M_3 | False\n"
     ]
    }
   ],
   "source": [
    "for device in AWSDevice:\n",
    "    print(device.name, \"|\", device.is_noisy_simulator())"
   ]
  },
  {
   "cell_type": "markdown",
   "metadata": {},
   "source": [
    "For running the noisy circuit, we use the exact same way as in the noiseless case: we just call the ``run`` function with the circuit and the requested devices."
   ]
  },
  {
   "cell_type": "code",
   "execution_count": 28,
   "metadata": {},
   "outputs": [
    {
     "name": "stderr",
     "output_type": "stream",
     "text": [
      "\n"
     ]
    },
    {
     "name": "stdout",
     "output_type": "stream",
     "text": [
      "Result: None, AWSDevice, BRAKET_LOCAL_SIMULATOR\n",
      " Counts: [23, 46, 25, 6]\n",
      " Probabilities: [0.23, 0.46, 0.25, 0.06]\n",
      " Samples:\n",
      "  State: 00, Index: 0, Count: 23, Probability: 0.23\n",
      "  State: 01, Index: 1, Count: 46, Probability: 0.46\n",
      "  State: 10, Index: 2, Count: 25, Probability: 0.25\n",
      "  State: 11, Index: 3, Count: 6, Probability: 0.06\n",
      " Error: None\n"
     ]
    }
   ],
   "source": [
    "result = run(circuit_2, AWSDevice.BRAKET_LOCAL_SIMULATOR) # this line is valid for both noisy and non noisy cases\n",
    "print(result)"
   ]
  },
  {
   "cell_type": "code",
   "execution_count": null,
   "metadata": {},
   "outputs": [],
   "source": []
  }
 ],
 "metadata": {
  "kernelspec": {
   "display_name": "Python 3",
   "language": "python",
   "name": "python3"
  },
  "language_info": {
   "codemirror_mode": {
    "name": "ipython",
    "version": 3
   },
   "file_extension": ".py",
   "mimetype": "text/x-python",
   "name": "python",
   "nbconvert_exporter": "python",
   "pygments_lexer": "ipython3",
   "version": "3.9.5"
  }
 },
 "nbformat": 4,
 "nbformat_minor": 2
}
