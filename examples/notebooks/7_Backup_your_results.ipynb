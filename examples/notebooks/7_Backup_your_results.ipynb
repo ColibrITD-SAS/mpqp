{
 "cells": [
  {
   "cell_type": "markdown",
   "metadata": {},
   "source": [
    "# Saving your results in MPQP\n",
    "\n",
    "This notebook demonstrates how to manage quantum circuit execution results using\n",
    "the `mpqp` library.\n",
    "\n",
    "You can basically skip the first cell which sets up the database so that is does\n",
    "not interfere with any of your previous work. In case you are interested in this\n",
    "topic, you can dive deeper using the documentation of the corresponding section."
   ]
  },
  {
   "cell_type": "code",
   "execution_count": 1,
   "metadata": {},
   "outputs": [],
   "source": [
    "from mpqp import QCircuit\n",
    "from mpqp.execution import run, IBMDevice, GOOGLEDevice, Result, BatchResult, JobType\n",
    "from mpqp.execution.connection.env_manager import get_env_variable, save_env_variable\n",
    "from mpqp.gates import *\n",
    "from mpqp.measures import *\n",
    "\n",
    "\n",
    "# Backing up your local storage to avoid losing any of your data\n",
    "from mpqp.local_storage import setup_local_storage, clear_local_storage\n",
    "\n",
    "old_db_path = get_env_variable(\"DB_PATH\")\n",
    "setup_local_storage(\"example_db_for_notebook.db\")\n",
    "clear_local_storage()"
   ]
  },
  {
   "cell_type": "markdown",
   "metadata": {},
   "source": [
    "After execution of a circuit, you might want to save your result for later use.\n",
    "Here is how you would do it:"
   ]
  },
  {
   "cell_type": "markdown",
   "metadata": {},
   "source": [
    "We create a simple quantum circuit using gates and run it on a simulator.\n",
    "We can then store the results in the local storage.\n",
    "\n",
    "By default if a job already exists the result will put the same job_id it can be change by setup `compile_same_job` args in `insert_result` to `false`."
   ]
  },
  {
   "cell_type": "code",
   "execution_count": 2,
   "metadata": {},
   "outputs": [
    {
     "name": "stdout",
     "output_type": "stream",
     "text": [
      "1\n"
     ]
    }
   ],
   "source": [
    "c = QCircuit([H(0), CNOT(0, 1), BasisMeasure()])\n",
    "\n",
    "result = run(c, device=IBMDevice.AER_SIMULATOR)\n",
    "\n",
    "id = result.save()\n",
    "print(id)"
   ]
  },
  {
   "cell_type": "markdown",
   "metadata": {},
   "source": [
    "At a latter date, when you need this result, you can retrieve it by it's `id` as such:"
   ]
  },
  {
   "cell_type": "code",
   "execution_count": 3,
   "metadata": {},
   "outputs": [
    {
     "name": "stdout",
     "output_type": "stream",
     "text": [
      "Result: IBMDevice, AER_SIMULATOR\n",
      " Counts: [518, 0, 0, 506]\n",
      " Probabilities: [0.50586, 0, 0, 0.49414]\n",
      " Samples:\n",
      "  State: 00, Index: 0, Count: 518, Probability: 0.5058594\n",
      "  State: 11, Index: 3, Count: 506, Probability: 0.4941406\n",
      " Error: None\n"
     ]
    }
   ],
   "source": [
    "result = Result.load_by_local_id(1)\n",
    "print(result)"
   ]
  },
  {
   "cell_type": "markdown",
   "metadata": {},
   "source": [
    "Of course this can also be done with a batch result:"
   ]
  },
  {
   "cell_type": "code",
   "execution_count": 4,
   "metadata": {},
   "outputs": [
    {
     "name": "stdout",
     "output_type": "stream",
     "text": [
      "1\n"
     ]
    },
    {
     "data": {
      "image/png": "[encoded data removed]",
      "text/plain": [
       "<Figure size 432x288 with 2 Axes>"
      ]
     },
     "metadata": {
      "needs_background": "light"
     },
     "output_type": "display_data"
    }
   ],
   "source": [
    "run(c, device=[IBMDevice.AER_SIMULATOR, GOOGLEDevice.CIRQ_LOCAL_SIMULATOR]).save()\n",
    "print(id)\n",
    "...\n",
    "BatchResult.load_by_local_ids([2,3]).plot()"
   ]
  },
  {
   "cell_type": "markdown",
   "metadata": {},
   "source": [
    "One might also not have saved the `id`s, you can then load all the results, or\n",
    "load results similar to one you know should be close to the one you're looking for:"
   ]
  },
  {
   "cell_type": "code",
   "execution_count": 5,
   "metadata": {},
   "outputs": [
    {
     "name": "stdout",
     "output_type": "stream",
     "text": [
      "All results:\n",
      "Result: IBMDevice, AER_SIMULATOR\n",
      " Counts: [518, 0, 0, 506]\n",
      " Probabilities: [0.50586, 0, 0, 0.49414]\n",
      " Samples:\n",
      "  State: 00, Index: 0, Count: 518, Probability: 0.5058594\n",
      "  State: 11, Index: 3, Count: 506, Probability: 0.4941406\n",
      " Error: None\n",
      "Result: circuit 1, IBMDevice, AER_SIMULATOR\n",
      " Counts: [493, 0, 0, 531]\n",
      " Probabilities: [0.48145, 0, 0, 0.51855]\n",
      " Samples:\n",
      "  State: 00, Index: 0, Count: 493, Probability: 0.4814453\n",
      "  State: 11, Index: 3, Count: 531, Probability: 0.5185547\n",
      " Error: None\n",
      "Result: circuit 1, GOOGLEDevice, CIRQ_LOCAL_SIMULATOR\n",
      " Counts: [528, 0, 0, 496]\n",
      " Probabilities: [0.51562, 0, 0, 0.48438]\n",
      " Samples:\n",
      "  State: 00, Index: 0, Count: 528, Probability: 0.515625\n",
      "  State: 11, Index: 3, Count: 496, Probability: 0.484375\n",
      " Error: None\n",
      "\n",
      "Or results similar to a specific result:\n",
      "[Result(Job(JobType.SAMPLE, QCircuit([H(0), CNOT(0, 1), BasisMeasure()]), IBMDevice.AER_SIMULATOR, BasisMeasure([0, 1], c_targets=[0, 1])), [Sample(2, index=0, count=518, probability=0.505859375), Sample(2, index=3, count=506, probability=0.494140625)], None, 1024)]\n"
     ]
    }
   ],
   "source": [
    "print(\"All results:\")\n",
    "for r in Result.load_all(): print(r)\n",
    "\n",
    "r = Result.load_all()[0]\n",
    "print(\"\\nOr results similar to a specific result:\")\n",
    "print(r.load_similar())"
   ]
  },
  {
   "cell_type": "markdown",
   "metadata": {},
   "source": [
    "But of course you can still filter by custom filter:"
   ]
  },
  {
   "cell_type": "code",
   "execution_count": 6,
   "metadata": {},
   "outputs": [
    {
     "name": "stdout",
     "output_type": "stream",
     "text": [
      "Result: IBMDevice, AER_SIMULATOR\n",
      " Counts: [518, 0, 0, 506]\n",
      " Probabilities: [0.50586, 0, 0, 0.49414]\n",
      " Samples:\n",
      "  State: 00, Index: 0, Count: 518, Probability: 0.5058594\n",
      "  State: 11, Index: 3, Count: 506, Probability: 0.4941406\n",
      " Error: None\n",
      "Result: circuit 1, IBMDevice, AER_SIMULATOR\n",
      " Counts: [493, 0, 0, 531]\n",
      " Probabilities: [0.48145, 0, 0, 0.51855]\n",
      " Samples:\n",
      "  State: 00, Index: 0, Count: 493, Probability: 0.4814453\n",
      "  State: 11, Index: 3, Count: 531, Probability: 0.5185547\n",
      " Error: None\n",
      "Result: circuit 1, GOOGLEDevice, CIRQ_LOCAL_SIMULATOR\n",
      " Counts: [528, 0, 0, 496]\n",
      " Probabilities: [0.51562, 0, 0, 0.48438]\n",
      " Samples:\n",
      "  State: 00, Index: 0, Count: 528, Probability: 0.515625\n",
      "  State: 11, Index: 3, Count: 496, Probability: 0.484375\n",
      " Error: None\n"
     ]
    }
   ],
   "source": [
    "sample_results = [r for r in Result.load_all() if r.job.job_type == JobType.SAMPLE]\n",
    "for r in sample_results: print(r)"
   ]
  },
  {
   "cell_type": "markdown",
   "metadata": {},
   "source": [
    "Results can also be deleted once you no longer them:"
   ]
  },
  {
   "cell_type": "code",
   "execution_count": 7,
   "metadata": {},
   "outputs": [],
   "source": [
    "Result.delete_by_local_id(1)"
   ]
  },
  {
   "cell_type": "markdown",
   "metadata": {},
   "source": [
    "All of these methods have an equivalent for jobs, where you can save, load et\n",
    "delete your jobs.\n",
    "\n",
    "Now that you know how to use your result local storage, let us revert it to it's\n",
    "previous state.  "
   ]
  },
  {
   "cell_type": "code",
   "execution_count": 8,
   "metadata": {},
   "outputs": [
    {
     "data": {
      "text/plain": [
       "True"
      ]
     },
     "execution_count": 8,
     "metadata": {},
     "output_type": "execute_result"
    }
   ],
   "source": [
    "clear_local_storage()\n",
    "save_env_variable(\"DB_PATH\", old_db_path)"
   ]
  }
 ],
 "metadata": {
  "kernelspec": {
   "display_name": "python3.9",
   "language": "python",
   "name": "python3"
  },
  "language_info": {
   "codemirror_mode": {
    "name": "ipython",
    "version": 3
   },
   "file_extension": ".py",
   "mimetype": "text/x-python",
   "name": "python",
   "nbconvert_exporter": "python",
   "pygments_lexer": "ipython3",
   "version": "3.9.7"
  }
 },
 "nbformat": 4,
 "nbformat_minor": 2
}
