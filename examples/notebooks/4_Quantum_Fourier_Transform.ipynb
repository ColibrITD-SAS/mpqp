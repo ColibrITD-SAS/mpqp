{
 "cells": [
  {
   "cell_type": "markdown",
   "id": "50bfe086",
   "metadata": {},
   "source": [
    "# Quantum Fourier Transform\n",
    "\n",
    "In this notebook we present how to extend the ``QCircuit`` to define a circuit representing the Quantum Fourier Transform (QFT) for $n$-qubits.\n",
    "\n",
    "For a reminder about the QFT, one can check this [medium article](https://medium.com/colibritd-quantum/getting-to-know-quantum-fourier-transform-ae60b23e58f4).\n",
    "\n",
    "We first import the required objects."
   ]
  },
  {
   "cell_type": "code",
   "execution_count": 2,
   "id": "0e19bebf",
   "metadata": {},
   "outputs": [],
   "source": [
    "from mpqp.gates import *\n",
    "from mpqp.execution.result import Result\n",
    "from mpqp import QCircuit, Barrier\n",
    "from mpqp.execution import run, IBMDevice\n",
    "from math import floor\n",
    "import numpy as np"
   ]
  },
  {
   "cell_type": "markdown",
   "id": "caf07985",
   "metadata": {},
   "source": [
    "We define the ``QFT`` class, extending from ``QCircuit``, taking into parameter the number of qubits of the circuit, and a boolean indicating if the inverse of the QFT is needed."
   ]
  },
  {
   "cell_type": "code",
   "execution_count": 3,
   "id": "ffdddefb",
   "metadata": {},
   "outputs": [],
   "source": [
    "class QFT(QCircuit):\n",
    "      \n",
    "    def __init__(self,n_qubits,inverse=False):\n",
    "        \n",
    "        super().__init__(n_qubits, nb_cbits=n_qubits)\n",
    "        self.inverse = inverse\n",
    "        self._build()\n",
    "    \n",
    "    def _build(self):\n",
    "        for j in range(self.nb_qubits):\n",
    "            self.add(H(j))\n",
    "            self.add([CRk(i+1, i, j) for i in range(j+1, self.nb_qubits)])\n",
    "            self.add(Barrier())\n",
    "        self.add([SWAP(i, self.nb_qubits-1-i) for i in range(int(floor(self.nb_qubits / 2)))])\n",
    "        \n",
    "        if self.inverse == True:\n",
    "           self.inverse()"
   ]
  },
  {
   "cell_type": "markdown",
   "id": "cce0c007",
   "metadata": {},
   "source": [
    "As a matter, we generate and print the Quantum Fourier Transform for 5-qubit systems."
   ]
  },
  {
   "cell_type": "code",
   "execution_count": 4,
   "id": "f290c657",
   "metadata": {
    "scrolled": false
   },
   "outputs": [
    {
     "name": "stdout",
     "output_type": "stream",
     "text": [
      "     ┌───┐                                      ░                        »\n",
      "q_0: ┤ H ├─■────────■────────■────────■─────────░────────────────────────»\n",
      "     └───┘ │P(π/2)  │        │        │         ░ ┌───┐                  »\n",
      "q_1: ──────■────────┼────────┼────────┼─────────░─┤ H ├─■────────■───────»\n",
      "                    │P(π/4)  │        │         ░ └───┘ │P(π/4)  │       »\n",
      "q_2: ───────────────■────────┼────────┼─────────░───────■────────┼───────»\n",
      "                             │P(π/8)  │         ░                │P(π/8) »\n",
      "q_3: ────────────────────────■────────┼─────────░────────────────■───────»\n",
      "                                      │P(π/16)  ░                        »\n",
      "q_4: ─────────────────────────────────■─────────░────────────────────────»\n",
      "                                                ░                        »\n",
      "c: 5/════════════════════════════════════════════════════════════════════»\n",
      "                                                                         »\n",
      "«                ░                          ░                 ░       ░       \n",
      "«q_0: ───────────░──────────────────────────░─────────────────░───────░──X────\n",
      "«                ░                          ░                 ░       ░  │    \n",
      "«q_1: ─■─────────░──────────────────────────░─────────────────░───────░──┼──X─\n",
      "«      │         ░ ┌───┐                    ░                 ░       ░  │  │ \n",
      "«q_2: ─┼─────────░─┤ H ├─■────────■─────────░─────────────────░───────░──┼──┼─\n",
      "«      │         ░ └───┘ │P(π/8)  │         ░ ┌───┐           ░       ░  │  │ \n",
      "«q_3: ─┼─────────░───────■────────┼─────────░─┤ H ├─■─────────░───────░──┼──X─\n",
      "«      │P(π/16)  ░                │P(π/16)  ░ └───┘ │P(π/16)  ░ ┌───┐ ░  │    \n",
      "«q_4: ─■─────────░────────────────■─────────░───────■─────────░─┤ H ├─░──X────\n",
      "«                ░                          ░                 ░ └───┘ ░       \n",
      "«c: 5/════════════════════════════════════════════════════════════════════════\n",
      "«                                                                             \n"
     ]
    }
   ],
   "source": [
    "qft_5 = QFT(n_qubits=5)\n",
    "print(qft_5)"
   ]
  },
  {
   "cell_type": "markdown",
   "id": "7afac910",
   "metadata": {},
   "source": [
    "When applied on the basis state $|0\\rangle^{\\otimes n}$, we retrieve as expected the fully-parallelized state $|+\\rangle^{\\otimes n}$."
   ]
  },
  {
   "cell_type": "code",
   "execution_count": 5,
   "id": "ce59b0f3",
   "metadata": {},
   "outputs": [
    {
     "name": "stdout",
     "output_type": "stream",
     "text": [
      "[0.1767767+0.j 0.1767767+0.j 0.1767767+0.j 0.1767767+0.j 0.1767767+0.j\n",
      " 0.1767767+0.j 0.1767767+0.j 0.1767767+0.j 0.1767767+0.j 0.1767767+0.j\n",
      " 0.1767767+0.j 0.1767767+0.j 0.1767767+0.j 0.1767767+0.j 0.1767767+0.j\n",
      " 0.1767767+0.j 0.1767767+0.j 0.1767767+0.j 0.1767767+0.j 0.1767767+0.j\n",
      " 0.1767767+0.j 0.1767767+0.j 0.1767767+0.j 0.1767767+0.j 0.1767767+0.j\n",
      " 0.1767767+0.j 0.1767767+0.j 0.1767767+0.j 0.1767767+0.j 0.1767767+0.j\n",
      " 0.1767767+0.j 0.1767767+0.j]\n"
     ]
    }
   ],
   "source": [
    "result = run(qft_5, IBMDevice.AER_SIMULATOR_STATEVECTOR)\n",
    "if isinstance(result, Result):\n",
    "    print(result.amplitudes)"
   ]
  },
  {
   "cell_type": "markdown",
   "id": "298ad788",
   "metadata": {},
   "source": [
    "We then give a couple of example of application of the QFT, when appended at the end of a circuit defining a state."
   ]
  },
  {
   "cell_type": "code",
   "execution_count": 6,
   "id": "97f049b8",
   "metadata": {},
   "outputs": [
    {
     "name": "stdout",
     "output_type": "stream",
     "text": [
      "     ┌───┐          ░       ░    \n",
      "q_0: ┤ H ├─■────────░───────░──X─\n",
      "     ├───┤ │P(π/2)  ░ ┌───┐ ░  │ \n",
      "q_1: ┤ H ├─■────────░─┤ H ├─░──X─\n",
      "     └───┘          ░ └───┘ ░    \n",
      "[0.70710678-4.32978028e-17j 0.35355339+3.53553391e-01j\n",
      " 0.        +4.32978028e-17j 0.35355339-3.53553391e-01j]\n"
     ]
    }
   ],
   "source": [
    "qc1 = QCircuit([H(1)]) + QFT(2)\n",
    "\n",
    "print(qc1)\n",
    "\n",
    "result1 = run(qc1, IBMDevice.AER_SIMULATOR_STATEVECTOR) \n",
    "if isinstance(result1, Result):\n",
    "    print(result1.amplitudes)"
   ]
  },
  {
   "cell_type": "code",
   "execution_count": 7,
   "id": "67e3e10a",
   "metadata": {},
   "outputs": [
    {
     "name": "stdout",
     "output_type": "stream",
     "text": [
      "     ┌────────────┐                        ┌───┐┌───┐                   ░      »\n",
      "q_0: ┤ Ry(1.9106) ├─■───────────────────■──┤ X ├┤ H ├─■────────■────────░──────»\n",
      "     └┬──────────┬┘ │ ┌─────────┐     ┌─┴─┐└───┘└───┘ │P(π/2)  │        ░ ┌───┐»\n",
      "q_1: ─┤ Ry(-π/4) ├──■─┤ Ry(π/4) ├──■──┤ X ├───────────■────────┼────────░─┤ H ├»\n",
      "      └──────────┘    └─────────┘┌─┴─┐└───┘                    │P(π/4)  ░ └───┘»\n",
      "q_2: ────────────────────────────┤ X ├─────────────────────────■────────░──────»\n",
      "                                 └───┘                                  ░      »\n",
      "«               ░       ░    \n",
      "«q_0: ──────────░───────░──X─\n",
      "«               ░       ░  │ \n",
      "«q_1: ─■────────░───────░──┼─\n",
      "«      │P(π/4)  ░ ┌───┐ ░  │ \n",
      "«q_2: ─■────────░─┤ H ├─░──X─\n",
      "«               ░ └───┘ ░    \n",
      "[ 0.61237244-7.49939943e-17j -0.05978658+3.48461713e-01j\n",
      "  0.14433757+1.44337567e-01j -0.20412415+4.09474745e-17j\n",
      "  0.20412415-2.49979981e-17j -0.34846171+5.97865779e-02j\n",
      " -0.14433757-1.44337567e-01j -0.20412415-4.08248290e-01j]\n"
     ]
    }
   ],
   "source": [
    "W_circuit = QCircuit([Ry(2*np.arccos(1/np.sqrt(3)),0),Ry(-np.pi/4,1),CZ(0,1),Ry(np.pi/4,1),CNOT(1,2),CNOT(0,1),X(0)])\n",
    "\n",
    "qc2 = W_circuit + QFT(3)\n",
    "print(qc2)\n",
    "\n",
    "result2 = run(qc2, IBMDevice.AER_SIMULATOR_STATEVECTOR)\n",
    "if isinstance(result2, Result):\n",
    "    print(result2.amplitudes)"
   ]
  }
 ],
 "metadata": {
  "kernelspec": {
   "display_name": "Python 3",
   "language": "python",
   "name": "python3"
  },
  "language_info": {
   "codemirror_mode": {
    "name": "ipython",
    "version": 3
   },
   "file_extension": ".py",
   "mimetype": "text/x-python",
   "name": "python",
   "nbconvert_exporter": "python",
   "pygments_lexer": "ipython3",
   "version": "3.9.5"
  }
 },
 "nbformat": 4,
 "nbformat_minor": 5
}
