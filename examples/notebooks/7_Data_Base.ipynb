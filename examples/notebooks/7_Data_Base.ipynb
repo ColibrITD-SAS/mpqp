{
 "cells": [
  {
   "cell_type": "markdown",
   "metadata": {},
   "source": [
    "# MPQP Database Interaction\n",
    "\n",
    "This notebook demonstrates how to manage quantum circuit execution results using the `mpqp` library. It includes setting up the database, running quantum circuits on simulators, storing results, and performing database queries."
   ]
  },
  {
   "cell_type": "code",
   "execution_count": 1,
   "metadata": {},
   "outputs": [],
   "source": [
    "from mpqp.all import *\n",
    "from mpqp.execution.connection.env_manager import get_env_variable, save_env_variable"
   ]
  },
  {
   "cell_type": "markdown",
   "metadata": {},
   "source": [
    "## Database Setup"
   ]
  },
  {
   "cell_type": "code",
   "execution_count": 2,
   "metadata": {},
   "outputs": [],
   "source": [
    "from mpqp.local_storage.setup import setup_local_storage\n",
    "from mpqp.local_storage.delete import clear_local_storage"
   ]
  },
  {
   "cell_type": "markdown",
   "metadata": {},
   "source": [
    "To store and retrieve circuit execution results, we need a database. The `setup_local_storage` function initializes this database.\n",
    "\n",
    "by default `setup_local_storage` will be called `quantum_jobs.local_storage`. We can change this by giving the database name as an argument\n",
    "The name of the database will be stored in the global variable of mpqp."
   ]
  },
  {
   "cell_type": "code",
   "execution_count": 3,
   "metadata": {},
   "outputs": [
    {
     "name": "stdout",
     "output_type": "stream",
     "text": [
      "C:\\Users\\...\\.mpqp\\result_storage.db\n"
     ]
    }
   ],
   "source": [
    "save_local_storage = get_env_variable(\"DATA_BASE\")\n",
    "setup_local_storage()\n",
    "print(get_env_variable(\"DATA_BASE\"))"
   ]
  },
  {
   "cell_type": "code",
   "execution_count": 4,
   "metadata": {},
   "outputs": [
    {
     "name": "stdout",
     "output_type": "stream",
     "text": [
      "test_database.db\n"
     ]
    }
   ],
   "source": [
    "setup_local_storage(\"test_database.db\")\n",
    "print(get_env_variable(\"DATA_BASE\"))\n",
    "clear_local_storage()"
   ]
  },
  {
   "cell_type": "markdown",
   "metadata": {},
   "source": [
    "## Insert Results into the Database"
   ]
  },
  {
   "cell_type": "markdown",
   "metadata": {},
   "source": [
    "To save circuit execution results, use the `insert_result` function from `mpqp.local_storage.save`."
   ]
  },
  {
   "cell_type": "code",
   "execution_count": 5,
   "metadata": {},
   "outputs": [],
   "source": [
    "from mpqp.local_storage.save import insert_results"
   ]
  },
  {
   "cell_type": "markdown",
   "metadata": {},
   "source": [
    "We create a simple quantum circuit using gates and run it on a simulator.\n",
    "We can then store the results in the database.\n",
    "\n",
    "By default if a job already exists the result will put the same job_id it can be change by setup `compile_same_job` args in `insert_result` to `false`."
   ]
  },
  {
   "cell_type": "code",
   "execution_count": 6,
   "metadata": {},
   "outputs": [
    {
     "name": "stdout",
     "output_type": "stream",
     "text": [
      "[1]\n"
     ]
    }
   ],
   "source": [
    "c = QCircuit([H(0), CNOT(0, 1), BasisMeasure()], label=\"H CX BM\")\n",
    "\n",
    "result = run(c, device=IBMDevice.AER_SIMULATOR)\n",
    "\n",
    "id = insert_results(result)\n",
    "print(id)"
   ]
  },
  {
   "cell_type": "markdown",
   "metadata": {},
   "source": [
    "We can also store a `BatchResult`."
   ]
  },
  {
   "cell_type": "code",
   "execution_count": 7,
   "metadata": {},
   "outputs": [
    {
     "name": "stdout",
     "output_type": "stream",
     "text": [
      "[2, 3]\n"
     ]
    }
   ],
   "source": [
    "result2 = run(c, device=[IBMDevice.AER_SIMULATOR, GOOGLEDevice.CIRQ_LOCAL_SIMULATOR])\n",
    "\n",
    "id2 = insert_results(result2)\n",
    "print(id2)"
   ]
  },
  {
   "cell_type": "code",
   "execution_count": 8,
   "metadata": {},
   "outputs": [
    {
     "name": "stdout",
     "output_type": "stream",
     "text": [
      "[4, 5]\n"
     ]
    }
   ],
   "source": [
    "c = QCircuit([H(0), BasisMeasure()], label=\"H BM\")\n",
    "\n",
    "result3 = run(c, device=[IBMDevice.AER_SIMULATOR, GOOGLEDevice.CIRQ_LOCAL_SIMULATOR])\n",
    "\n",
    "id = insert_results(result3)\n",
    "print(id)"
   ]
  },
  {
   "cell_type": "code",
   "execution_count": 9,
   "metadata": {},
   "outputs": [
    {
     "name": "stdout",
     "output_type": "stream",
     "text": [
      "[6, 7]\n"
     ]
    }
   ],
   "source": [
    "c1 = QCircuit([], nb_qubits=2)\n",
    "c2 = QCircuit([Id(0), Id(1)], nb_qubits=2, label=\"Id\")\n",
    "\n",
    "result12 = run([c1, c2], device=IBMDevice.AER_SIMULATOR)\n",
    "\n",
    "id = insert_results(result12)\n",
    "print(id)"
   ]
  },
  {
   "cell_type": "markdown",
   "metadata": {},
   "source": [
    "## Query the Database\n",
    "\n",
    "The `mpqp.local_storage.queries` module provides functions to fetch results and jobs."
   ]
  },
  {
   "cell_type": "code",
   "execution_count": 10,
   "metadata": {},
   "outputs": [],
   "source": [
    "from mpqp.local_storage.queries import *\n",
    "\n",
    "assert isinstance(result, Result)\n",
    "job = result.job"
   ]
  },
  {
   "cell_type": "markdown",
   "metadata": {},
   "source": [
    "Retrieve all results stored in the database."
   ]
  },
  {
   "cell_type": "code",
   "execution_count": 11,
   "metadata": {},
   "outputs": [
    {
     "name": "stdout",
     "output_type": "stream",
     "text": [
      "{'id': 1, 'job_id': 1, 'data': '\"[Sample(2, index=0, count=515, probability=0.5029296875), Sample(2, index=3, count=509, probability=0.4970703125)]\"', 'error': None, 'shots': 1024, 'created_at': '2025-02-24 16:27:52'}\n",
      "{'id': 2, 'job_id': 1, 'data': '\"[Sample(2, index=0, count=533, probability=0.5205078125), Sample(2, index=3, count=491, probability=0.4794921875)]\"', 'error': None, 'shots': 1024, 'created_at': '2025-02-24 16:27:53'}\n",
      "{'id': 3, 'job_id': 2, 'data': '\"[Sample(2, index=0, count=546, probability=0.533203125), Sample(2, index=3, count=478, probability=0.466796875)]\"', 'error': None, 'shots': 1024, 'created_at': '2025-02-24 16:27:53'}\n",
      "{'id': 4, 'job_id': 3, 'data': '\"[Sample(1, index=0, count=526, probability=0.513671875), Sample(1, index=1, count=498, probability=0.486328125)]\"', 'error': None, 'shots': 1024, 'created_at': '2025-02-24 16:27:53'}\n",
      "{'id': 5, 'job_id': 4, 'data': '\"[Sample(1, index=0, count=478, probability=0.466796875), Sample(1, index=1, count=546, probability=0.533203125)]\"', 'error': None, 'shots': 1024, 'created_at': '2025-02-24 16:27:53'}\n",
      "{'id': 6, 'job_id': 5, 'data': '\"StateVector([1, 0, 0, 0])\"', 'error': '\"0\"', 'shots': 0, 'created_at': '2025-02-24 16:27:53'}\n",
      "{'id': 7, 'job_id': 6, 'data': '\"StateVector([1, 0, 0, 0])\"', 'error': '\"0\"', 'shots': 0, 'created_at': '2025-02-24 16:27:53'}\n"
     ]
    }
   ],
   "source": [
    "all_results = fetch_all_results()\n",
    "for r in all_results:\n",
    "    print(r)"
   ]
  },
  {
   "cell_type": "markdown",
   "metadata": {},
   "source": [
    "Retrieve all jobs stored in the database.\n"
   ]
  },
  {
   "cell_type": "code",
   "execution_count": 12,
   "metadata": {},
   "outputs": [
    {
     "name": "stdout",
     "output_type": "stream",
     "text": [
      "{'id': 1, 'type': 'SAMPLE', 'circuit': '\"QCircuit([H(0), CNOT(0, 1), BasisMeasure()], label=\\\\\"H CX BM\\\\\")\"', 'device': 'IBMDevice.AER_SIMULATOR', 'measure': '\"BasisMeasure([0, 1], c_targets=[0, 1])\"', 'remote_id': None, 'status': None, 'created_at': '2025-02-24 16:27:52'}\n",
      "{'id': 2, 'type': 'SAMPLE', 'circuit': '\"QCircuit([H(0), CNOT(0, 1), BasisMeasure()], label=\\\\\"H CX BM\\\\\")\"', 'device': 'GOOGLEDevice.CIRQ_LOCAL_SIMULATOR', 'measure': '\"BasisMeasure([0, 1], c_targets=[0, 1])\"', 'remote_id': None, 'status': None, 'created_at': '2025-02-24 16:27:53'}\n",
      "{'id': 3, 'type': 'SAMPLE', 'circuit': '\"QCircuit([H(0), BasisMeasure()], label=\\\\\"H BM\\\\\")\"', 'device': 'IBMDevice.AER_SIMULATOR', 'measure': '\"BasisMeasure([0], c_targets=[0])\"', 'remote_id': None, 'status': None, 'created_at': '2025-02-24 16:27:53'}\n",
      "{'id': 4, 'type': 'SAMPLE', 'circuit': '\"QCircuit([H(0), BasisMeasure()], label=\\\\\"H BM\\\\\")\"', 'device': 'GOOGLEDevice.CIRQ_LOCAL_SIMULATOR', 'measure': '\"BasisMeasure([0], c_targets=[0])\"', 'remote_id': None, 'status': None, 'created_at': '2025-02-24 16:27:53'}\n",
      "{'id': 5, 'type': 'STATE_VECTOR', 'circuit': '\"QCircuit(2, label=\\\\\"circuit 1\\\\\")\"', 'device': 'IBMDevice.AER_SIMULATOR', 'measure': None, 'remote_id': None, 'status': None, 'created_at': '2025-02-24 16:27:53'}\n",
      "{'id': 6, 'type': 'STATE_VECTOR', 'circuit': '\"QCircuit([Id(0), Id(1)], nb_qubits=2, label=\\\\\"Id\\\\\")\"', 'device': 'IBMDevice.AER_SIMULATOR', 'measure': None, 'remote_id': None, 'status': None, 'created_at': '2025-02-24 16:27:53'}\n"
     ]
    }
   ],
   "source": [
    "all_jobs = fetch_all_jobs()\n",
    "for j in all_jobs:\n",
    "    print(j)"
   ]
  },
  {
   "cell_type": "markdown",
   "metadata": {},
   "source": [
    "Retrieve specific result using their ID."
   ]
  },
  {
   "cell_type": "code",
   "execution_count": 13,
   "metadata": {},
   "outputs": [
    {
     "data": {
      "text/plain": [
       "[{'id': 1,\n",
       "  'job_id': 1,\n",
       "  'data': '\"[Sample(2, index=0, count=515, probability=0.5029296875), Sample(2, index=3, count=509, probability=0.4970703125)]\"',\n",
       "  'error': None,\n",
       "  'shots': 1024,\n",
       "  'created_at': '2025-02-24 16:27:52'}]"
      ]
     },
     "execution_count": 13,
     "metadata": {},
     "output_type": "execute_result"
    }
   ],
   "source": [
    "local_storage_result_id_1 = fetch_results_with_id(1)\n",
    "local_storage_result_id_1"
   ]
  },
  {
   "cell_type": "markdown",
   "metadata": {},
   "source": [
    "Retrieve specific job using their ID."
   ]
  },
  {
   "cell_type": "code",
   "execution_count": 14,
   "metadata": {},
   "outputs": [
    {
     "data": {
      "text/plain": [
       "[{'id': 1,\n",
       "  'type': 'SAMPLE',\n",
       "  'circuit': '\"QCircuit([H(0), CNOT(0, 1), BasisMeasure()], label=\\\\\"H CX BM\\\\\")\"',\n",
       "  'device': 'IBMDevice.AER_SIMULATOR',\n",
       "  'measure': '\"BasisMeasure([0, 1], c_targets=[0, 1])\"',\n",
       "  'remote_id': None,\n",
       "  'status': None,\n",
       "  'created_at': '2025-02-24 16:27:52'}]"
      ]
     },
     "execution_count": 14,
     "metadata": {},
     "output_type": "execute_result"
    }
   ],
   "source": [
    "assert local_storage_result_id_1 is not None\n",
    "local_storage_job_id_1 = fetch_jobs_with_id(local_storage_result_id_1[0]['job_id'])\n",
    "local_storage_job_id_1"
   ]
  },
  {
   "cell_type": "markdown",
   "metadata": {},
   "source": [
    "Retrieve all results using the job ID."
   ]
  },
  {
   "cell_type": "code",
   "execution_count": 15,
   "metadata": {},
   "outputs": [
    {
     "data": {
      "text/plain": [
       "[{'id': 1,\n",
       "  'job_id': 1,\n",
       "  'data': '\"[Sample(2, index=0, count=515, probability=0.5029296875), Sample(2, index=3, count=509, probability=0.4970703125)]\"',\n",
       "  'error': None,\n",
       "  'shots': 1024,\n",
       "  'created_at': '2025-02-24 16:27:52'},\n",
       " {'id': 2,\n",
       "  'job_id': 1,\n",
       "  'data': '\"[Sample(2, index=0, count=533, probability=0.5205078125), Sample(2, index=3, count=491, probability=0.4794921875)]\"',\n",
       "  'error': None,\n",
       "  'shots': 1024,\n",
       "  'created_at': '2025-02-24 16:27:53'}]"
      ]
     },
     "execution_count": 15,
     "metadata": {},
     "output_type": "execute_result"
    }
   ],
   "source": [
    "local_storage_jobs_with_results = fetch_results_with_job_id(1)\n",
    "local_storage_jobs_with_results"
   ]
  },
  {
   "cell_type": "markdown",
   "metadata": {},
   "source": [
    "Retrieve all jobs associated with a job."
   ]
  },
  {
   "cell_type": "code",
   "execution_count": 16,
   "metadata": {},
   "outputs": [
    {
     "data": {
      "text/plain": [
       "[{'id': 1,\n",
       "  'type': 'SAMPLE',\n",
       "  'circuit': '\"QCircuit([H(0), CNOT(0, 1), BasisMeasure()], label=\\\\\"H CX BM\\\\\")\"',\n",
       "  'device': 'IBMDevice.AER_SIMULATOR',\n",
       "  'measure': '\"BasisMeasure([0, 1], c_targets=[0, 1])\"',\n",
       "  'remote_id': None,\n",
       "  'status': None,\n",
       "  'created_at': '2025-02-24 16:27:52'}]"
      ]
     },
     "execution_count": 16,
     "metadata": {},
     "output_type": "execute_result"
    }
   ],
   "source": [
    "local_storage_jobs_with_job = fetch_jobs_with_job(job)\n",
    "local_storage_jobs_with_job"
   ]
  },
  {
   "cell_type": "markdown",
   "metadata": {},
   "source": [
    "Retrieve all jobs associated with a result."
   ]
  },
  {
   "cell_type": "code",
   "execution_count": 17,
   "metadata": {},
   "outputs": [
    {
     "data": {
      "text/plain": [
       "[{'id': 1,\n",
       "  'type': 'SAMPLE',\n",
       "  'circuit': '\"QCircuit([H(0), CNOT(0, 1), BasisMeasure()], label=\\\\\"H CX BM\\\\\")\"',\n",
       "  'device': 'IBMDevice.AER_SIMULATOR',\n",
       "  'measure': '\"BasisMeasure([0, 1], c_targets=[0, 1])\"',\n",
       "  'remote_id': None,\n",
       "  'status': None,\n",
       "  'created_at': '2025-02-24 16:27:52'}]"
      ]
     },
     "execution_count": 17,
     "metadata": {},
     "output_type": "execute_result"
    }
   ],
   "source": [
    "local_storage_jobs_with_results = fetch_jobs_with_result(result)\n",
    "local_storage_jobs_with_results"
   ]
  },
  {
   "cell_type": "markdown",
   "metadata": {},
   "source": [
    "Retrieve all results associated with a result."
   ]
  },
  {
   "cell_type": "code",
   "execution_count": 18,
   "metadata": {},
   "outputs": [
    {
     "data": {
      "text/plain": [
       "[{'id': 1,\n",
       "  'job_id': 1,\n",
       "  'data': '\"[Sample(2, index=0, count=515, probability=0.5029296875), Sample(2, index=3, count=509, probability=0.4970703125)]\"',\n",
       "  'error': None,\n",
       "  'shots': 1024,\n",
       "  'created_at': '2025-02-24 16:27:52'}]"
      ]
     },
     "execution_count": 18,
     "metadata": {},
     "output_type": "execute_result"
    }
   ],
   "source": [
    "local_storage_results_with_results = fetch_results_with_result(result)\n",
    "local_storage_results_with_results"
   ]
  },
  {
   "cell_type": "markdown",
   "metadata": {},
   "source": [
    "Retrieve all results associated with a result and result.job."
   ]
  },
  {
   "cell_type": "code",
   "execution_count": 19,
   "metadata": {},
   "outputs": [
    {
     "data": {
      "text/plain": [
       "[{'id': 1,\n",
       "  'job_id': 1,\n",
       "  'data': '\"[Sample(2, index=0, count=515, probability=0.5029296875), Sample(2, index=3, count=509, probability=0.4970703125)]\"',\n",
       "  'error': None,\n",
       "  'shots': 1024,\n",
       "  'created_at': '2025-02-24 16:27:52'}]"
      ]
     },
     "execution_count": 19,
     "metadata": {},
     "output_type": "execute_result"
    }
   ],
   "source": [
    "local_storage_results_with_results_and_job = fetch_results_with_result_and_job(result)\n",
    "local_storage_results_with_results_and_job"
   ]
  },
  {
   "cell_type": "markdown",
   "metadata": {},
   "source": [
    "## Export Data\n",
    "\n",
    "You can also export database entries using the `mpqp.local_storage.local_storage_export` module."
   ]
  },
  {
   "cell_type": "code",
   "execution_count": 20,
   "metadata": {},
   "outputs": [],
   "source": [
    "from mpqp.local_storage.load import *"
   ]
  },
  {
   "cell_type": "markdown",
   "metadata": {},
   "source": [
    "transform a local_storage format jobs to mpqp format."
   ]
  },
  {
   "cell_type": "code",
   "execution_count": 21,
   "metadata": {},
   "outputs": [
    {
     "data": {
      "text/plain": [
       "[Job(JobType.SAMPLE, QCircuit([H(0), CNOT(0, 1), BasisMeasure()], label=\"H CX BM\"), IBMDevice.AER_SIMULATOR, BasisMeasure([0, 1], c_targets=[0, 1]))]"
      ]
     },
     "execution_count": 21,
     "metadata": {},
     "output_type": "execute_result"
    }
   ],
   "source": [
    "jobs_local_storage_to_mpqp(local_storage_job_id_1)"
   ]
  },
  {
   "cell_type": "markdown",
   "metadata": {},
   "source": [
    "transform a local_storage format results to mpqp format."
   ]
  },
  {
   "cell_type": "code",
   "execution_count": 22,
   "metadata": {},
   "outputs": [
    {
     "name": "stdout",
     "output_type": "stream",
     "text": [
      "Result: H CX BM, IBMDevice, AER_SIMULATOR\n",
      " Counts: [515, 0, 0, 509]\n",
      " Probabilities: [0.50293, 0, 0, 0.49707]\n",
      " Samples:\n",
      "  State: 00, Index: 0, Count: 515, Probability: 0.5029297\n",
      "  State: 11, Index: 3, Count: 509, Probability: 0.4970703\n",
      " Error: None\n"
     ]
    }
   ],
   "source": [
    "print(results_local_storage_to_mpqp(local_storage_result_id_1)[0])"
   ]
  },
  {
   "cell_type": "markdown",
   "metadata": {},
   "source": [
    "Fetch all jobs"
   ]
  },
  {
   "cell_type": "code",
   "execution_count": 23,
   "metadata": {},
   "outputs": [
    {
     "data": {
      "text/plain": [
       "[Job(JobType.SAMPLE, QCircuit([H(0), CNOT(0, 1), BasisMeasure()], label=\"H CX BM\"), IBMDevice.AER_SIMULATOR, BasisMeasure([0, 1], c_targets=[0, 1])),\n",
       " Job(JobType.SAMPLE, QCircuit([H(0), CNOT(0, 1), BasisMeasure()], label=\"H CX BM\"), GOOGLEDevice.CIRQ_LOCAL_SIMULATOR, BasisMeasure([0, 1], c_targets=[0, 1])),\n",
       " Job(JobType.SAMPLE, QCircuit([H(0), BasisMeasure()], label=\"H BM\"), IBMDevice.AER_SIMULATOR, BasisMeasure([0], c_targets=[0])),\n",
       " Job(JobType.SAMPLE, QCircuit([H(0), BasisMeasure()], label=\"H BM\"), GOOGLEDevice.CIRQ_LOCAL_SIMULATOR, BasisMeasure([0], c_targets=[0])),\n",
       " Job(JobType.STATE_VECTOR, QCircuit(2, label=\"circuit 1\"), IBMDevice.AER_SIMULATOR),\n",
       " Job(JobType.STATE_VECTOR, QCircuit([Id(0), Id(1)], nb_qubits=2, label=\"Id\"), IBMDevice.AER_SIMULATOR)]"
      ]
     },
     "execution_count": 23,
     "metadata": {},
     "output_type": "execute_result"
    }
   ],
   "source": [
    "get_all_jobs()"
   ]
  },
  {
   "cell_type": "markdown",
   "metadata": {},
   "source": [
    "Fetch all results"
   ]
  },
  {
   "cell_type": "code",
   "execution_count": 24,
   "metadata": {},
   "outputs": [
    {
     "data": {
      "text/plain": [
       "[Result(Job(JobType.SAMPLE, QCircuit([H(0), CNOT(0, 1), BasisMeasure()], label=\"H CX BM\"), IBMDevice.AER_SIMULATOR, BasisMeasure([0, 1], c_targets=[0, 1])), [Sample(2, index=0, count=515, probability=0.5029296875), Sample(2, index=3, count=509, probability=0.4970703125)], None, 1024),\n",
       " Result(Job(JobType.SAMPLE, QCircuit([H(0), CNOT(0, 1), BasisMeasure()], label=\"H CX BM\"), IBMDevice.AER_SIMULATOR, BasisMeasure([0, 1], c_targets=[0, 1])), [Sample(2, index=0, count=533, probability=0.5205078125), Sample(2, index=3, count=491, probability=0.4794921875)], None, 1024),\n",
       " Result(Job(JobType.SAMPLE, QCircuit([H(0), CNOT(0, 1), BasisMeasure()], label=\"H CX BM\"), GOOGLEDevice.CIRQ_LOCAL_SIMULATOR, BasisMeasure([0, 1], c_targets=[0, 1])), [Sample(2, index=0, count=546, probability=0.533203125), Sample(2, index=3, count=478, probability=0.466796875)], None, 1024),\n",
       " Result(Job(JobType.SAMPLE, QCircuit([H(0), BasisMeasure()], label=\"H BM\"), IBMDevice.AER_SIMULATOR, BasisMeasure([0], c_targets=[0])), [Sample(1, index=0, count=526, probability=0.513671875), Sample(1, index=1, count=498, probability=0.486328125)], None, 1024),\n",
       " Result(Job(JobType.SAMPLE, QCircuit([H(0), BasisMeasure()], label=\"H BM\"), GOOGLEDevice.CIRQ_LOCAL_SIMULATOR, BasisMeasure([0], c_targets=[0])), [Sample(1, index=0, count=478, probability=0.466796875), Sample(1, index=1, count=546, probability=0.533203125)], None, 1024),\n",
       " Result(Job(JobType.STATE_VECTOR, QCircuit(2, label=\"circuit 1\"), IBMDevice.AER_SIMULATOR), StateVector([1, 0, 0, 0]), 0, 0),\n",
       " Result(Job(JobType.STATE_VECTOR, QCircuit([Id(0), Id(1)], nb_qubits=2, label=\"Id\"), IBMDevice.AER_SIMULATOR), StateVector([1, 0, 0, 0]), 0, 0)]"
      ]
     },
     "execution_count": 24,
     "metadata": {},
     "output_type": "execute_result"
    }
   ],
   "source": [
    "get_all_results()"
   ]
  },
  {
   "cell_type": "code",
   "execution_count": 25,
   "metadata": {},
   "outputs": [
    {
     "data": {
      "text/plain": [
       "[Job(JobType.SAMPLE, QCircuit([H(0), CNOT(0, 1), BasisMeasure()], label=\"H CX BM\"), IBMDevice.AER_SIMULATOR, BasisMeasure([0, 1], c_targets=[0, 1]))]"
      ]
     },
     "execution_count": 25,
     "metadata": {},
     "output_type": "execute_result"
    }
   ],
   "source": [
    "get_jobs_with_job(job)"
   ]
  },
  {
   "cell_type": "code",
   "execution_count": 26,
   "metadata": {},
   "outputs": [
    {
     "data": {
      "text/plain": [
       "[Job(JobType.SAMPLE, QCircuit([H(0), CNOT(0, 1), BasisMeasure()], label=\"H CX BM\"), IBMDevice.AER_SIMULATOR, BasisMeasure([0, 1], c_targets=[0, 1]))]"
      ]
     },
     "execution_count": 26,
     "metadata": {},
     "output_type": "execute_result"
    }
   ],
   "source": [
    "get_jobs_with_result(result)"
   ]
  },
  {
   "cell_type": "code",
   "execution_count": 27,
   "metadata": {},
   "outputs": [
    {
     "data": {
      "text/plain": [
       "[Result(Job(JobType.SAMPLE, QCircuit([H(0), CNOT(0, 1), BasisMeasure()], label=\"H CX BM\"), IBMDevice.AER_SIMULATOR, BasisMeasure([0, 1], c_targets=[0, 1])), [Sample(2, index=0, count=515, probability=0.5029296875), Sample(2, index=3, count=509, probability=0.4970703125)], None, 1024)]"
      ]
     },
     "execution_count": 27,
     "metadata": {},
     "output_type": "execute_result"
    }
   ],
   "source": [
    "get_results_with_result_and_job(result)"
   ]
  },
  {
   "cell_type": "code",
   "execution_count": 28,
   "metadata": {},
   "outputs": [
    {
     "data": {
      "text/plain": [
       "[Result(Job(JobType.SAMPLE, QCircuit([H(0), CNOT(0, 1), BasisMeasure()], label=\"H CX BM\"), IBMDevice.AER_SIMULATOR, BasisMeasure([0, 1], c_targets=[0, 1])), [Sample(2, index=0, count=515, probability=0.5029296875), Sample(2, index=3, count=509, probability=0.4970703125)], None, 1024)]"
      ]
     },
     "execution_count": 28,
     "metadata": {},
     "output_type": "execute_result"
    }
   ],
   "source": [
    "get_results_with_result(result)"
   ]
  },
  {
   "cell_type": "code",
   "execution_count": 29,
   "metadata": {},
   "outputs": [
    {
     "data": {
      "text/plain": [
       "[Result(Job(JobType.SAMPLE, QCircuit([H(0), CNOT(0, 1), BasisMeasure()], label=\"H CX BM\"), IBMDevice.AER_SIMULATOR, BasisMeasure([0, 1], c_targets=[0, 1])), [Sample(2, index=0, count=515, probability=0.5029296875), Sample(2, index=3, count=509, probability=0.4970703125)], None, 1024)]"
      ]
     },
     "execution_count": 29,
     "metadata": {},
     "output_type": "execute_result"
    }
   ],
   "source": [
    "get_results_with_id(1)"
   ]
  },
  {
   "cell_type": "code",
   "execution_count": 30,
   "metadata": {},
   "outputs": [
    {
     "data": {
      "text/plain": [
       "[Job(JobType.SAMPLE, QCircuit([H(0), CNOT(0, 1), BasisMeasure()], label=\"H CX BM\"), IBMDevice.AER_SIMULATOR, BasisMeasure([0, 1], c_targets=[0, 1]))]"
      ]
     },
     "execution_count": 30,
     "metadata": {},
     "output_type": "execute_result"
    }
   ],
   "source": [
    "get_jobs_with_id(1)"
   ]
  },
  {
   "cell_type": "code",
   "execution_count": 31,
   "metadata": {},
   "outputs": [
    {
     "data": {
      "text/plain": [
       "[Result(Job(JobType.SAMPLE, QCircuit([H(0), CNOT(0, 1), BasisMeasure()], label=\"H CX BM\"), IBMDevice.AER_SIMULATOR, BasisMeasure([0, 1], c_targets=[0, 1])), [Sample(2, index=0, count=515, probability=0.5029296875), Sample(2, index=3, count=509, probability=0.4970703125)], None, 1024),\n",
       " Result(Job(JobType.SAMPLE, QCircuit([H(0), CNOT(0, 1), BasisMeasure()], label=\"H CX BM\"), IBMDevice.AER_SIMULATOR, BasisMeasure([0, 1], c_targets=[0, 1])), [Sample(2, index=0, count=533, probability=0.5205078125), Sample(2, index=3, count=491, probability=0.4794921875)], None, 1024)]"
      ]
     },
     "execution_count": 31,
     "metadata": {},
     "output_type": "execute_result"
    }
   ],
   "source": [
    "get_results_with_job_id(1)"
   ]
  },
  {
   "cell_type": "markdown",
   "metadata": {},
   "source": [
    "## Remove elements"
   ]
  },
  {
   "cell_type": "code",
   "execution_count": 32,
   "metadata": {},
   "outputs": [],
   "source": [
    "from mpqp.local_storage.setup import *\n",
    "from mpqp.local_storage.delete import *"
   ]
  },
  {
   "cell_type": "code",
   "execution_count": 33,
   "metadata": {},
   "outputs": [
    {
     "name": "stdout",
     "output_type": "stream",
     "text": [
      "1\n",
      "0\n"
     ]
    }
   ],
   "source": [
    "print(len(get_results_with_id(4)))\n",
    "remove_results_with_id(4)\n",
    "print(len(get_results_with_id(4)))"
   ]
  },
  {
   "cell_type": "code",
   "execution_count": 34,
   "metadata": {},
   "outputs": [
    {
     "name": "stdout",
     "output_type": "stream",
     "text": [
      "1\n",
      "0\n"
     ]
    }
   ],
   "source": [
    "print(len(get_jobs_with_id(4)))\n",
    "remove_jobs_with_id(4)\n",
    "print(len(get_jobs_with_id(4)))"
   ]
  },
  {
   "cell_type": "code",
   "execution_count": 35,
   "metadata": {},
   "outputs": [
    {
     "name": "stdout",
     "output_type": "stream",
     "text": [
      "2\n",
      "0\n"
     ]
    }
   ],
   "source": [
    "print(len(get_results_with_job_id(1)))\n",
    "remove_all_with_job_id(1)\n",
    "print(len(get_results_with_job_id(1)))"
   ]
  },
  {
   "cell_type": "code",
   "execution_count": 36,
   "metadata": {},
   "outputs": [
    {
     "name": "stdout",
     "output_type": "stream",
     "text": [
      "1\n",
      "0\n"
     ]
    }
   ],
   "source": [
    "print(len(fetch_results_with_id(5)))\n",
    "remove_results_with_results_local_storage(fetch_results_with_id(5))\n",
    "print(len(fetch_results_with_id(5)))"
   ]
  },
  {
   "cell_type": "code",
   "execution_count": 37,
   "metadata": {},
   "outputs": [
    {
     "data": {
      "text/plain": [
       "True"
      ]
     },
     "execution_count": 37,
     "metadata": {},
     "output_type": "execute_result"
    }
   ],
   "source": [
    "clear_local_storage()\n",
    "save_env_variable(\"DATA_BASE\", save_local_storage)"
   ]
  }
 ],
 "metadata": {
  "kernelspec": {
   "display_name": "Python 3",
   "language": "python",
   "name": "python3"
  },
  "language_info": {
   "codemirror_mode": {
    "name": "ipython",
    "version": 3
   },
   "file_extension": ".py",
   "mimetype": "text/x-python",
   "name": "python",
   "nbconvert_exporter": "python",
   "pygments_lexer": "ipython3",
   "version": "3.9.5"
  }
 },
 "nbformat": 4,
 "nbformat_minor": 2
}
