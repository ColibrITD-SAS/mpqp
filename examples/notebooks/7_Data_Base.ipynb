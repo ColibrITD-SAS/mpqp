{
 "cells": [
  {
   "cell_type": "markdown",
   "metadata": {},
   "source": [
    "# MPQP Database Interaction\n",
    "\n",
    "This notebook demonstrates how to manage quantum circuit execution results using the `mpqp` library. It includes setting up the database, running quantum circuits on simulators, storing results, and performing database queries."
   ]
  },
  {
   "cell_type": "code",
   "execution_count": 1,
   "metadata": {},
   "outputs": [],
   "source": [
    "from mpqp.all import *\n",
    "from mpqp.execution.connection.env_manager import get_env_variable"
   ]
  },
  {
   "cell_type": "markdown",
   "metadata": {},
   "source": [
    "## Database Setup"
   ]
  },
  {
   "cell_type": "code",
   "execution_count": 2,
   "metadata": {},
   "outputs": [],
   "source": [
    "from mpqp.db.db_setup import setup_db"
   ]
  },
  {
   "cell_type": "markdown",
   "metadata": {},
   "source": [
    "To store and retrieve circuit execution results, we need a database. The `setup_db` function initializes this database.\n",
    "\n",
    "by default `setup_db` will be called `quantum_jobs.db`. We can change this by giving the database name as an argument\n",
    "The name of the database will be stored in the global variable of mpqp."
   ]
  },
  {
   "cell_type": "code",
   "execution_count": 3,
   "metadata": {},
   "outputs": [
    {
     "name": "stdout",
     "output_type": "stream",
     "text": [
      "quantum_jobs.db\n"
     ]
    }
   ],
   "source": [
    "setup_db()\n",
    "print(get_env_variable(\"DATA_BASE\"))"
   ]
  },
  {
   "cell_type": "code",
   "execution_count": 4,
   "metadata": {},
   "outputs": [
    {
     "name": "stdout",
     "output_type": "stream",
     "text": [
      "another_database.db\n"
     ]
    }
   ],
   "source": [
    "setup_db(\"another_database.db\")\n",
    "print(get_env_variable(\"DATA_BASE\"))"
   ]
  },
  {
   "cell_type": "markdown",
   "metadata": {},
   "source": [
    "## Insert Results into the Database"
   ]
  },
  {
   "cell_type": "markdown",
   "metadata": {},
   "source": [
    "To save circuit execution results, use the `insert_result` function from `mpqp.db.db_import`."
   ]
  },
  {
   "cell_type": "code",
   "execution_count": 5,
   "metadata": {},
   "outputs": [],
   "source": [
    "from mpqp.db.db_import import insert_result"
   ]
  },
  {
   "cell_type": "markdown",
   "metadata": {},
   "source": [
    "We create a simple quantum circuit using gates and run it on a simulator.\n",
    "We can then store the results in the database.\n",
    "\n",
    "By default if a job already exists the result will put the same job_id."
   ]
  },
  {
   "cell_type": "code",
   "execution_count": 6,
   "metadata": {},
   "outputs": [
    {
     "name": "stdout",
     "output_type": "stream",
     "text": [
      "[7]\n"
     ]
    }
   ],
   "source": [
    "c = QCircuit([H(0), CNOT(0, 1), BasisMeasure()], label=\"H CX BM\")\n",
    "\n",
    "result = run(c, device=IBMDevice.AER_SIMULATOR)\n",
    "\n",
    "id = insert_result(result)\n",
    "print(id)"
   ]
  },
  {
   "cell_type": "markdown",
   "metadata": {},
   "source": [
    "We can also store a `BatchResult`."
   ]
  },
  {
   "cell_type": "code",
   "execution_count": 7,
   "metadata": {},
   "outputs": [
    {
     "name": "stdout",
     "output_type": "stream",
     "text": [
      "[8, 9]\n"
     ]
    }
   ],
   "source": [
    "result2 = run(c, device=[IBMDevice.AER_SIMULATOR, GOOGLEDevice.CIRQ_LOCAL_SIMULATOR])\n",
    "\n",
    "id2 = insert_result(result2)\n",
    "print(id2)"
   ]
  },
  {
   "cell_type": "markdown",
   "metadata": {},
   "source": [
    "## Query the Database\n",
    "\n",
    "The `mpqp.db.db_query` module provides functions to fetch results and jobs."
   ]
  },
  {
   "cell_type": "code",
   "execution_count": 8,
   "metadata": {},
   "outputs": [],
   "source": [
    "from mpqp.db.db_query import *\n",
    "\n",
    "assert isinstance(result, Result)\n",
    "job = result.job"
   ]
  },
  {
   "cell_type": "markdown",
   "metadata": {},
   "source": [
    "Retrieve all results stored in the database."
   ]
  },
  {
   "cell_type": "code",
   "execution_count": 9,
   "metadata": {},
   "outputs": [
    {
     "data": {
      "text/plain": [
       "[{'id': 1,\n",
       "  'job_id': 1,\n",
       "  'data': '\"[Sample(2, index=0, count=520, probability=0.5078125), Sample(2, index=3, count=504, probability=0.4921875)]\"',\n",
       "  'error': None,\n",
       "  'shots': 1024,\n",
       "  'created_at': '2024-11-27 12:51:13'},\n",
       " {'id': 2,\n",
       "  'job_id': 1,\n",
       "  'data': '\"[Sample(2, index=0, count=491, probability=0.4794921875), Sample(2, index=3, count=533, probability=0.5205078125)]\"',\n",
       "  'error': None,\n",
       "  'shots': 1024,\n",
       "  'created_at': '2024-11-27 12:51:14'},\n",
       " {'id': 3,\n",
       "  'job_id': 2,\n",
       "  'data': '\"[Sample(2, index=0, count=506, probability=0.494140625), Sample(2, index=3, count=518, probability=0.505859375)]\"',\n",
       "  'error': None,\n",
       "  'shots': 1024,\n",
       "  'created_at': '2024-11-27 12:51:14'},\n",
       " {'id': 4,\n",
       "  'job_id': 1,\n",
       "  'data': '\"[Sample(2, index=0, count=493, probability=0.4814453125), Sample(2, index=3, count=531, probability=0.5185546875)]\"',\n",
       "  'error': None,\n",
       "  'shots': 1024,\n",
       "  'created_at': '2024-11-27 12:54:55'},\n",
       " {'id': 5,\n",
       "  'job_id': 1,\n",
       "  'data': '\"[Sample(2, index=0, count=511, probability=0.4990234375), Sample(2, index=3, count=513, probability=0.5009765625)]\"',\n",
       "  'error': None,\n",
       "  'shots': 1024,\n",
       "  'created_at': '2024-11-27 12:54:55'},\n",
       " {'id': 6,\n",
       "  'job_id': 2,\n",
       "  'data': '\"[Sample(2, index=0, count=508, probability=0.49609375), Sample(2, index=3, count=516, probability=0.50390625)]\"',\n",
       "  'error': None,\n",
       "  'shots': 1024,\n",
       "  'created_at': '2024-11-27 12:54:55'},\n",
       " {'id': 7,\n",
       "  'job_id': 1,\n",
       "  'data': '\"[Sample(2, index=0, count=486, probability=0.474609375), Sample(2, index=3, count=538, probability=0.525390625)]\"',\n",
       "  'error': None,\n",
       "  'shots': 1024,\n",
       "  'created_at': '2024-11-27 12:55:02'},\n",
       " {'id': 8,\n",
       "  'job_id': 1,\n",
       "  'data': '\"[Sample(2, index=0, count=518, probability=0.505859375), Sample(2, index=3, count=506, probability=0.494140625)]\"',\n",
       "  'error': None,\n",
       "  'shots': 1024,\n",
       "  'created_at': '2024-11-27 12:55:04'},\n",
       " {'id': 9,\n",
       "  'job_id': 2,\n",
       "  'data': '\"[Sample(2, index=0, count=514, probability=0.501953125), Sample(2, index=3, count=510, probability=0.498046875)]\"',\n",
       "  'error': None,\n",
       "  'shots': 1024,\n",
       "  'created_at': '2024-11-27 12:55:04'}]"
      ]
     },
     "execution_count": 9,
     "metadata": {},
     "output_type": "execute_result"
    }
   ],
   "source": [
    "all_results = fetch_all_results()\n",
    "all_results"
   ]
  },
  {
   "cell_type": "markdown",
   "metadata": {},
   "source": [
    "Retrieve all jobs stored in the database.\n"
   ]
  },
  {
   "cell_type": "code",
   "execution_count": 10,
   "metadata": {},
   "outputs": [
    {
     "data": {
      "text/plain": [
       "[{'id': 1,\n",
       "  'type': 'SAMPLE',\n",
       "  'circuit': '\"QCircuit([H(0), CNOT(0, 1), BasisMeasure()], nb_qubits=2, nb_cbits=2, label=\\\\\"H CX BM\\\\\")\"',\n",
       "  'device': 'IBMDevice.AER_SIMULATOR',\n",
       "  'measure': '\"BasisMeasure()\"',\n",
       "  'created_at': '2024-11-27 12:51:13'},\n",
       " {'id': 2,\n",
       "  'type': 'SAMPLE',\n",
       "  'circuit': '\"QCircuit([H(0), CNOT(0, 1), BasisMeasure()], nb_qubits=2, nb_cbits=2, label=\\\\\"H CX BM\\\\\")\"',\n",
       "  'device': 'GOOGLEDevice.CIRQ_LOCAL_SIMULATOR',\n",
       "  'measure': '\"BasisMeasure()\"',\n",
       "  'created_at': '2024-11-27 12:51:14'}]"
      ]
     },
     "execution_count": 10,
     "metadata": {},
     "output_type": "execute_result"
    }
   ],
   "source": [
    "all_jobs = fetch_all_jobs()\n",
    "all_jobs"
   ]
  },
  {
   "cell_type": "markdown",
   "metadata": {},
   "source": [
    "2 results have the same job so it is expected to have only 2 jobs instead of 3"
   ]
  },
  {
   "cell_type": "markdown",
   "metadata": {},
   "source": [
    "Retrieve specific result using their ID."
   ]
  },
  {
   "cell_type": "code",
   "execution_count": 11,
   "metadata": {},
   "outputs": [
    {
     "data": {
      "text/plain": [
       "{'id': 1,\n",
       " 'job_id': 1,\n",
       " 'data': '\"[Sample(2, index=0, count=520, probability=0.5078125), Sample(2, index=3, count=504, probability=0.4921875)]\"',\n",
       " 'error': None,\n",
       " 'shots': 1024,\n",
       " 'created_at': '2024-11-27 12:51:13'}"
      ]
     },
     "execution_count": 11,
     "metadata": {},
     "output_type": "execute_result"
    }
   ],
   "source": [
    "db_result_id_1 = fetch_result_with_id(1)\n",
    "db_result_id_1"
   ]
  },
  {
   "cell_type": "markdown",
   "metadata": {},
   "source": [
    "Retrieve specific job using their ID."
   ]
  },
  {
   "cell_type": "code",
   "execution_count": 12,
   "metadata": {},
   "outputs": [
    {
     "data": {
      "text/plain": [
       "{'id': 1,\n",
       " 'type': 'SAMPLE',\n",
       " 'circuit': '\"QCircuit([H(0), CNOT(0, 1), BasisMeasure()], nb_qubits=2, nb_cbits=2, label=\\\\\"H CX BM\\\\\")\"',\n",
       " 'device': 'IBMDevice.AER_SIMULATOR',\n",
       " 'measure': '\"BasisMeasure()\"',\n",
       " 'created_at': '2024-11-27 12:51:13'}"
      ]
     },
     "execution_count": 12,
     "metadata": {},
     "output_type": "execute_result"
    }
   ],
   "source": [
    "assert db_result_id_1 is not None\n",
    "db_job_id_1 = fetch_job_with_id(db_result_id_1['job_id'])\n",
    "db_job_id_1"
   ]
  },
  {
   "cell_type": "markdown",
   "metadata": {},
   "source": [
    "Retrieve all results using the job ID."
   ]
  },
  {
   "cell_type": "code",
   "execution_count": 13,
   "metadata": {},
   "outputs": [
    {
     "data": {
      "text/plain": [
       "[{'id': 1,\n",
       "  'job_id': 1,\n",
       "  'data': '\"[Sample(2, index=0, count=520, probability=0.5078125), Sample(2, index=3, count=504, probability=0.4921875)]\"',\n",
       "  'error': None,\n",
       "  'shots': 1024,\n",
       "  'created_at': '2024-11-27 12:51:13'},\n",
       " {'id': 2,\n",
       "  'job_id': 1,\n",
       "  'data': '\"[Sample(2, index=0, count=491, probability=0.4794921875), Sample(2, index=3, count=533, probability=0.5205078125)]\"',\n",
       "  'error': None,\n",
       "  'shots': 1024,\n",
       "  'created_at': '2024-11-27 12:51:14'},\n",
       " {'id': 4,\n",
       "  'job_id': 1,\n",
       "  'data': '\"[Sample(2, index=0, count=493, probability=0.4814453125), Sample(2, index=3, count=531, probability=0.5185546875)]\"',\n",
       "  'error': None,\n",
       "  'shots': 1024,\n",
       "  'created_at': '2024-11-27 12:54:55'},\n",
       " {'id': 5,\n",
       "  'job_id': 1,\n",
       "  'data': '\"[Sample(2, index=0, count=511, probability=0.4990234375), Sample(2, index=3, count=513, probability=0.5009765625)]\"',\n",
       "  'error': None,\n",
       "  'shots': 1024,\n",
       "  'created_at': '2024-11-27 12:54:55'},\n",
       " {'id': 7,\n",
       "  'job_id': 1,\n",
       "  'data': '\"[Sample(2, index=0, count=486, probability=0.474609375), Sample(2, index=3, count=538, probability=0.525390625)]\"',\n",
       "  'error': None,\n",
       "  'shots': 1024,\n",
       "  'created_at': '2024-11-27 12:55:02'},\n",
       " {'id': 8,\n",
       "  'job_id': 1,\n",
       "  'data': '\"[Sample(2, index=0, count=518, probability=0.505859375), Sample(2, index=3, count=506, probability=0.494140625)]\"',\n",
       "  'error': None,\n",
       "  'shots': 1024,\n",
       "  'created_at': '2024-11-27 12:55:04'}]"
      ]
     },
     "execution_count": 13,
     "metadata": {},
     "output_type": "execute_result"
    }
   ],
   "source": [
    "db_jobs_with_results = fetch_results_with_job_id(1)\n",
    "db_jobs_with_results"
   ]
  },
  {
   "cell_type": "markdown",
   "metadata": {},
   "source": [
    "Retrieve all jobs associated with a job."
   ]
  },
  {
   "cell_type": "code",
   "execution_count": 14,
   "metadata": {},
   "outputs": [
    {
     "data": {
      "text/plain": [
       "[{'id': 1,\n",
       "  'type': 'SAMPLE',\n",
       "  'circuit': '\"QCircuit([H(0), CNOT(0, 1), BasisMeasure()], nb_qubits=2, nb_cbits=2, label=\\\\\"H CX BM\\\\\")\"',\n",
       "  'device': 'IBMDevice.AER_SIMULATOR',\n",
       "  'measure': '\"BasisMeasure()\"',\n",
       "  'created_at': '2024-11-27 12:51:13'}]"
      ]
     },
     "execution_count": 14,
     "metadata": {},
     "output_type": "execute_result"
    }
   ],
   "source": [
    "db_jobs_with_job = fetch_jobs_with_job(job)\n",
    "db_jobs_with_job"
   ]
  },
  {
   "cell_type": "markdown",
   "metadata": {},
   "source": [
    "Retrieve all jobs associated with a result."
   ]
  },
  {
   "cell_type": "code",
   "execution_count": 15,
   "metadata": {},
   "outputs": [
    {
     "data": {
      "text/plain": [
       "[{'id': 1,\n",
       "  'type': 'SAMPLE',\n",
       "  'circuit': '\"QCircuit([H(0), CNOT(0, 1), BasisMeasure()], nb_qubits=2, nb_cbits=2, label=\\\\\"H CX BM\\\\\")\"',\n",
       "  'device': 'IBMDevice.AER_SIMULATOR',\n",
       "  'measure': '\"BasisMeasure()\"',\n",
       "  'created_at': '2024-11-27 12:51:13',\n",
       "  'job_id': 1,\n",
       "  'data': '\"[Sample(2, index=0, count=486, probability=0.474609375), Sample(2, index=3, count=538, probability=0.525390625)]\"',\n",
       "  'error': None,\n",
       "  'shots': 1024}]"
      ]
     },
     "execution_count": 15,
     "metadata": {},
     "output_type": "execute_result"
    }
   ],
   "source": [
    "db_jobs_with_results = fetch_jobs_with_result(result)\n",
    "db_jobs_with_results"
   ]
  },
  {
   "cell_type": "markdown",
   "metadata": {},
   "source": [
    "Retrieve all results associated with a result."
   ]
  },
  {
   "cell_type": "code",
   "execution_count": 16,
   "metadata": {},
   "outputs": [
    {
     "data": {
      "text/plain": [
       "[{'id': 7,\n",
       "  'job_id': 1,\n",
       "  'data': '\"[Sample(2, index=0, count=486, probability=0.474609375), Sample(2, index=3, count=538, probability=0.525390625)]\"',\n",
       "  'error': None,\n",
       "  'shots': 1024,\n",
       "  'created_at': '2024-11-27 12:55:02'}]"
      ]
     },
     "execution_count": 16,
     "metadata": {},
     "output_type": "execute_result"
    }
   ],
   "source": [
    "db_results_with_results = fetch_results_with_result(result)\n",
    "db_results_with_results"
   ]
  },
  {
   "cell_type": "markdown",
   "metadata": {},
   "source": [
    "Retrieve all results associated with a result and result.job."
   ]
  },
  {
   "cell_type": "code",
   "execution_count": 17,
   "metadata": {},
   "outputs": [
    {
     "data": {
      "text/plain": [
       "[{'id': 7,\n",
       "  'job_id': 1,\n",
       "  'data': '\"[Sample(2, index=0, count=486, probability=0.474609375), Sample(2, index=3, count=538, probability=0.525390625)]\"',\n",
       "  'error': None,\n",
       "  'shots': 1024,\n",
       "  'created_at': '2024-11-27 12:55:02',\n",
       "  'type': 'SAMPLE',\n",
       "  'circuit': '\"QCircuit([H(0), CNOT(0, 1), BasisMeasure()], nb_qubits=2, nb_cbits=2, label=\\\\\"H CX BM\\\\\")\"',\n",
       "  'device': 'IBMDevice.AER_SIMULATOR',\n",
       "  'measure': '\"BasisMeasure()\"'}]"
      ]
     },
     "execution_count": 17,
     "metadata": {},
     "output_type": "execute_result"
    }
   ],
   "source": [
    "db_results_with_results_and_job = fetch_results_with_result_and_job(result)\n",
    "db_results_with_results_and_job"
   ]
  },
  {
   "cell_type": "markdown",
   "metadata": {},
   "source": [
    "## Export Data\n",
    "\n",
    "You can also export database entries using the `mpqp.db.db_export` module."
   ]
  },
  {
   "cell_type": "code",
   "execution_count": 18,
   "metadata": {},
   "outputs": [],
   "source": [
    "from mpqp.db.db_export import *"
   ]
  },
  {
   "cell_type": "markdown",
   "metadata": {},
   "source": [
    "transform a db format jobs to mpqp format."
   ]
  },
  {
   "cell_type": "code",
   "execution_count": 19,
   "metadata": {},
   "outputs": [
    {
     "data": {
      "text/plain": [
       "[Job(JobType.SAMPLE, QCircuit([H(0), CNOT(0, 1), BasisMeasure()], nb_qubits=2, nb_cbits=2, label=\"H CX BM\"), IBMDevice.AER_SIMULATOR, BasisMeasure())]"
      ]
     },
     "execution_count": 19,
     "metadata": {},
     "output_type": "execute_result"
    }
   ],
   "source": [
    "jobs_dict_to_mpqp(db_job_id_1)"
   ]
  },
  {
   "cell_type": "markdown",
   "metadata": {},
   "source": [
    "transform a db format results to mpqp format."
   ]
  },
  {
   "cell_type": "code",
   "execution_count": 20,
   "metadata": {},
   "outputs": [
    {
     "name": "stdout",
     "output_type": "stream",
     "text": [
      "Result: H CX BM, IBMDevice, AER_SIMULATOR\n",
      " Counts: [520, 0, 0, 504]\n",
      " Probabilities: [0.50781, 0, 0, 0.49219]\n",
      " Samples:\n",
      "  State: 00, Index: 0, Count: 520, Probability: 0.5078125\n",
      "  State: 11, Index: 3, Count: 504, Probability: 0.4921875\n",
      " Error: None\n"
     ]
    }
   ],
   "source": [
    "print(results_dict_to_mpqp(db_result_id_1)[0])"
   ]
  },
  {
   "cell_type": "markdown",
   "metadata": {},
   "source": [
    "Fetch all jobs"
   ]
  },
  {
   "cell_type": "code",
   "execution_count": 21,
   "metadata": {},
   "outputs": [
    {
     "data": {
      "text/plain": [
       "[Job(JobType.SAMPLE, QCircuit([H(0), CNOT(0, 1), BasisMeasure()], nb_qubits=2, nb_cbits=2, label=\"H CX BM\"), IBMDevice.AER_SIMULATOR, BasisMeasure()),\n",
       " Job(JobType.SAMPLE, QCircuit([H(0), CNOT(0, 1), BasisMeasure()], nb_qubits=2, nb_cbits=2, label=\"H CX BM\"), GOOGLEDevice.CIRQ_LOCAL_SIMULATOR, BasisMeasure())]"
      ]
     },
     "execution_count": 21,
     "metadata": {},
     "output_type": "execute_result"
    }
   ],
   "source": [
    "get_all_jobs()"
   ]
  },
  {
   "cell_type": "markdown",
   "metadata": {},
   "source": [
    "Fetch all results"
   ]
  },
  {
   "cell_type": "code",
   "execution_count": 22,
   "metadata": {},
   "outputs": [
    {
     "data": {
      "text/plain": [
       "[Result(Job(JobType.SAMPLE, QCircuit([H(0), CNOT(0, 1), BasisMeasure()], nb_qubits=2, nb_cbits=2, label=\"H CX BM\"), IBMDevice.AER_SIMULATOR, BasisMeasure()), [Sample(2, index=0, count=520, probability=0.5078125), Sample(2, index=3, count=504, probability=0.4921875)], None, 1024),\n",
       " Result(Job(JobType.SAMPLE, QCircuit([H(0), CNOT(0, 1), BasisMeasure()], nb_qubits=2, nb_cbits=2, label=\"H CX BM\"), IBMDevice.AER_SIMULATOR, BasisMeasure()), [Sample(2, index=0, count=491, probability=0.4794921875), Sample(2, index=3, count=533, probability=0.5205078125)], None, 1024),\n",
       " Result(Job(JobType.SAMPLE, QCircuit([H(0), CNOT(0, 1), BasisMeasure()], nb_qubits=2, nb_cbits=2, label=\"H CX BM\"), GOOGLEDevice.CIRQ_LOCAL_SIMULATOR, BasisMeasure()), [Sample(2, index=0, count=506, probability=0.494140625), Sample(2, index=3, count=518, probability=0.505859375)], None, 1024),\n",
       " Result(Job(JobType.SAMPLE, QCircuit([H(0), CNOT(0, 1), BasisMeasure()], nb_qubits=2, nb_cbits=2, label=\"H CX BM\"), IBMDevice.AER_SIMULATOR, BasisMeasure()), [Sample(2, index=0, count=493, probability=0.4814453125), Sample(2, index=3, count=531, probability=0.5185546875)], None, 1024),\n",
       " Result(Job(JobType.SAMPLE, QCircuit([H(0), CNOT(0, 1), BasisMeasure()], nb_qubits=2, nb_cbits=2, label=\"H CX BM\"), IBMDevice.AER_SIMULATOR, BasisMeasure()), [Sample(2, index=0, count=511, probability=0.4990234375), Sample(2, index=3, count=513, probability=0.5009765625)], None, 1024),\n",
       " Result(Job(JobType.SAMPLE, QCircuit([H(0), CNOT(0, 1), BasisMeasure()], nb_qubits=2, nb_cbits=2, label=\"H CX BM\"), GOOGLEDevice.CIRQ_LOCAL_SIMULATOR, BasisMeasure()), [Sample(2, index=0, count=508, probability=0.49609375), Sample(2, index=3, count=516, probability=0.50390625)], None, 1024),\n",
       " Result(Job(JobType.SAMPLE, QCircuit([H(0), CNOT(0, 1), BasisMeasure()], nb_qubits=2, nb_cbits=2, label=\"H CX BM\"), IBMDevice.AER_SIMULATOR, BasisMeasure()), [Sample(2, index=0, count=486, probability=0.474609375), Sample(2, index=3, count=538, probability=0.525390625)], None, 1024),\n",
       " Result(Job(JobType.SAMPLE, QCircuit([H(0), CNOT(0, 1), BasisMeasure()], nb_qubits=2, nb_cbits=2, label=\"H CX BM\"), IBMDevice.AER_SIMULATOR, BasisMeasure()), [Sample(2, index=0, count=518, probability=0.505859375), Sample(2, index=3, count=506, probability=0.494140625)], None, 1024),\n",
       " Result(Job(JobType.SAMPLE, QCircuit([H(0), CNOT(0, 1), BasisMeasure()], nb_qubits=2, nb_cbits=2, label=\"H CX BM\"), GOOGLEDevice.CIRQ_LOCAL_SIMULATOR, BasisMeasure()), [Sample(2, index=0, count=514, probability=0.501953125), Sample(2, index=3, count=510, probability=0.498046875)], None, 1024)]"
      ]
     },
     "execution_count": 22,
     "metadata": {},
     "output_type": "execute_result"
    }
   ],
   "source": [
    "get_all_results()"
   ]
  },
  {
   "cell_type": "code",
   "execution_count": 23,
   "metadata": {},
   "outputs": [
    {
     "data": {
      "text/plain": [
       "[Job(JobType.SAMPLE, QCircuit([H(0), CNOT(0, 1), BasisMeasure()], nb_qubits=2, nb_cbits=2, label=\"H CX BM\"), IBMDevice.AER_SIMULATOR, BasisMeasure())]"
      ]
     },
     "execution_count": 23,
     "metadata": {},
     "output_type": "execute_result"
    }
   ],
   "source": [
    "get_jobs_with_job(job)"
   ]
  },
  {
   "cell_type": "code",
   "execution_count": 24,
   "metadata": {},
   "outputs": [
    {
     "data": {
      "text/plain": [
       "[Job(JobType.SAMPLE, QCircuit([H(0), CNOT(0, 1), BasisMeasure()], nb_qubits=2, nb_cbits=2, label=\"H CX BM\"), IBMDevice.AER_SIMULATOR, BasisMeasure())]"
      ]
     },
     "execution_count": 24,
     "metadata": {},
     "output_type": "execute_result"
    }
   ],
   "source": [
    "get_jobs_with_result(result)"
   ]
  },
  {
   "cell_type": "code",
   "execution_count": 25,
   "metadata": {},
   "outputs": [
    {
     "data": {
      "text/plain": [
       "[Result(Job(JobType.SAMPLE, QCircuit([H(0), CNOT(0, 1), BasisMeasure()], nb_qubits=2, nb_cbits=2, label=\"H CX BM\"), IBMDevice.AER_SIMULATOR, BasisMeasure()), [Sample(2, index=0, count=486, probability=0.474609375), Sample(2, index=3, count=538, probability=0.525390625)], None, 1024)]"
      ]
     },
     "execution_count": 25,
     "metadata": {},
     "output_type": "execute_result"
    }
   ],
   "source": [
    "get_results_with_result_and_job(result)"
   ]
  },
  {
   "cell_type": "code",
   "execution_count": 26,
   "metadata": {},
   "outputs": [
    {
     "data": {
      "text/plain": [
       "[Result(Job(JobType.SAMPLE, QCircuit([H(0), CNOT(0, 1), BasisMeasure()], nb_qubits=2, nb_cbits=2, label=\"H CX BM\"), IBMDevice.AER_SIMULATOR, BasisMeasure()), [Sample(2, index=0, count=486, probability=0.474609375), Sample(2, index=3, count=538, probability=0.525390625)], None, 1024)]"
      ]
     },
     "execution_count": 26,
     "metadata": {},
     "output_type": "execute_result"
    }
   ],
   "source": [
    "get_results_with_result(result)"
   ]
  },
  {
   "cell_type": "code",
   "execution_count": 27,
   "metadata": {},
   "outputs": [
    {
     "data": {
      "text/plain": [
       "[Result(Job(JobType.SAMPLE, QCircuit([H(0), CNOT(0, 1), BasisMeasure()], nb_qubits=2, nb_cbits=2, label=\"H CX BM\"), IBMDevice.AER_SIMULATOR, BasisMeasure()), [Sample(2, index=0, count=520, probability=0.5078125), Sample(2, index=3, count=504, probability=0.4921875)], None, 1024)]"
      ]
     },
     "execution_count": 27,
     "metadata": {},
     "output_type": "execute_result"
    }
   ],
   "source": [
    "get_result_with_id(1)"
   ]
  },
  {
   "cell_type": "code",
   "execution_count": 28,
   "metadata": {},
   "outputs": [
    {
     "data": {
      "text/plain": [
       "[Job(JobType.SAMPLE, QCircuit([H(0), CNOT(0, 1), BasisMeasure()], nb_qubits=2, nb_cbits=2, label=\"H CX BM\"), IBMDevice.AER_SIMULATOR, BasisMeasure())]"
      ]
     },
     "execution_count": 28,
     "metadata": {},
     "output_type": "execute_result"
    }
   ],
   "source": [
    "get_job_with_id(1)"
   ]
  }
 ],
 "metadata": {
  "kernelspec": {
   "display_name": "Python 3",
   "language": "python",
   "name": "python3"
  },
  "language_info": {
   "codemirror_mode": {
    "name": "ipython",
    "version": 3
   },
   "file_extension": ".py",
   "mimetype": "text/x-python",
   "name": "python",
   "nbconvert_exporter": "python",
   "pygments_lexer": "ipython3",
   "version": "3.9.5"
  }
 },
 "nbformat": 4,
 "nbformat_minor": 2
}
